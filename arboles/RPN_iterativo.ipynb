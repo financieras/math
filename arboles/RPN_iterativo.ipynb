{
  "nbformat": 4,
  "nbformat_minor": 0,
  "metadata": {
    "colab": {
      "provenance": [],
      "authorship_tag": "ABX9TyORSte9wQlKnxrWuR9hiFq9",
      "include_colab_link": true
    },
    "kernelspec": {
      "name": "python3",
      "display_name": "Python 3"
    },
    "language_info": {
      "name": "python"
    }
  },
  "cells": [
    {
      "cell_type": "markdown",
      "metadata": {
        "id": "view-in-github",
        "colab_type": "text"
      },
      "source": [
        "<a href=\"https://colab.research.google.com/github/financieras/math/blob/main/arboles/RPN_iterativo.ipynb\" target=\"_parent\"><img src=\"https://colab.research.google.com/assets/colab-badge.svg\" alt=\"Open In Colab\"/></a>"
      ]
    },
    {
      "cell_type": "markdown",
      "source": [
        "# Cálculo de una expresión RPN (Reverse Polish Notation)\n",
        "* Método iterativo.\n",
        "* Sin usar objetos, sin usar recursividad."
      ],
      "metadata": {
        "id": "Q5mr8EiyhmiS"
      }
    },
    {
      "cell_type": "code",
      "source": [
        "# función que elimina espacios, y convierte el string en una lista con los token\n",
        "def tokenization(string):\n",
        "    tokens = string.split()  # crea una lista sin espacios\n",
        "    return tokens\n",
        "\n",
        "def core(trio):\n",
        "    primero, segundo, operador = trio\n",
        "    return [str(eval(primero + operador + segundo))]\n",
        "\n",
        "# función que identifica un trio para operar en el core y lo sustituye por su resultado\n",
        "def elige_trio(lst):  # el parámetro lst es la lista de tokens recibida\n",
        "    for i in range(len(lst)):\n",
        "        if lst[i] in '+-*/':\n",
        "            return lst[:i-2] + core(lst[i-2:i+1]) + lst[i+1:]\n",
        "\n",
        "if __name__ == \"__main__\":\n",
        "    rpn = \"6 5 4 + 1 + +\"               # resultado 16\n",
        "    rpn = \"1 2 * 2 / 2 * 2 4 - +\"       # resultado 0\n",
        "    print(rpn)\n",
        "    tokens = tokenization(rpn)\n",
        "    print(tokens, \"\\tlista de tokens\")\n",
        "    while True:\n",
        "        num_operadores = tokens.count('+') + tokens.count('-') + tokens.count('*') + tokens.count('/')\n",
        "        if num_operadores == 0:\n",
        "            break\n",
        "        tokens = elige_trio(tokens)\n",
        "    tf = float(tokens[0])   # resultado numérico en formato float\n",
        "    print(tf if tf % 1 else int(tf))    # así evitamos que 0 de 0.0"
      ],
      "metadata": {
        "colab": {
          "base_uri": "https://localhost:8080/"
        },
        "id": "fIFNdtsmZjXe",
        "outputId": "44857631-bcaa-4005-8e0f-10357cb076f4"
      },
      "execution_count": 25,
      "outputs": [
        {
          "output_type": "stream",
          "name": "stdout",
          "text": [
            "1 2 * 2 / 2 * 2 4 - +\n",
            "['1', '2', '*', '2', '/', '2', '*', '2', '4', '-', '+'] \tlista de tokens\n",
            "0\n"
          ]
        }
      ]
    }
  ]
}