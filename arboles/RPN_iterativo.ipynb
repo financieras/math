{
  "nbformat": 4,
  "nbformat_minor": 0,
  "metadata": {
    "colab": {
      "provenance": [],
      "authorship_tag": "ABX9TyOnxNOr2E/NN3U84eTUjr5j",
      "include_colab_link": true
    },
    "kernelspec": {
      "name": "python3",
      "display_name": "Python 3"
    },
    "language_info": {
      "name": "python"
    }
  },
  "cells": [
    {
      "cell_type": "markdown",
      "metadata": {
        "id": "view-in-github",
        "colab_type": "text"
      },
      "source": [
        "<a href=\"https://colab.research.google.com/github/financieras/math/blob/main/arboles/RPN_iterativo.ipynb\" target=\"_parent\"><img src=\"https://colab.research.google.com/assets/colab-badge.svg\" alt=\"Open In Colab\"/></a>"
      ]
    },
    {
      "cell_type": "markdown",
      "source": [
        "# Cálculo de una expresión RPN (Reverse Polish Notation)\n",
        "* Método iterativo.\n",
        "* Sin usar objetos, sin usar recursividad."
      ],
      "metadata": {
        "id": "Q5mr8EiyhmiS"
      }
    },
    {
      "cell_type": "code",
      "source": [
        "# función que elimina espacios, y convierte el string en una lista con los token\n",
        "def tokenization(string):\n",
        "    tokens = string.split()  # crea una lista sin espacios\n",
        "    return tokens\n",
        "\n",
        "def core(trio):\n",
        "    primero, segundo, operador = trio\n",
        "    return [str(eval(primero + operador + segundo))]\n",
        "\n",
        "# función que identifica un trio para operar en el core y lo sustituye por su resultado\n",
        "def elige_trio(lst):  # el parámetro lst es la lista de tokens recibida\n",
        "    for i in range(len(lst)):\n",
        "        if lst[i] in '+-*/':\n",
        "            return lst[:i-2] + core(lst[i-2:i+1]) + lst[i+1:]\n",
        "\n",
        "if __name__ == \"__main__\":\n",
        "    rpn = \"6 5 4 + 1 + +\"       # resultado 16\n",
        "    print(rpn)\n",
        "    tokens = tokenization(rpn)\n",
        "    print(tokens, \"\\t\\tlista de tokens\")\n",
        "    while True:\n",
        "        num_operadores = tokens.count('+') + tokens.count('-') + tokens.count('*') + tokens.count('/')\n",
        "        if num_operadores == 0:\n",
        "            break\n",
        "        tokens = elige_trio(tokens)\n",
        "    print(int(tokens[0]))\n"
      ],
      "metadata": {
        "colab": {
          "base_uri": "https://localhost:8080/"
        },
        "id": "fIFNdtsmZjXe",
        "outputId": "7b8357a7-b484-4863-b848-a769e8b84ae4"
      },
      "execution_count": 24,
      "outputs": [
        {
          "output_type": "stream",
          "name": "stdout",
          "text": [
            "6 5 4 + 1 + +\n",
            "['6', '5', '4', '+', '1', '+', '+'] \t\tlista de tokens\n",
            "16\n"
          ]
        }
      ]
    }
  ]
}