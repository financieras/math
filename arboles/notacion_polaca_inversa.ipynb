{
  "nbformat": 4,
  "nbformat_minor": 0,
  "metadata": {
    "colab": {
      "provenance": [],
      "authorship_tag": "ABX9TyMqoVnFAAVW4y+dWkWj3EtB",
      "include_colab_link": true
    },
    "kernelspec": {
      "name": "python3",
      "display_name": "Python 3"
    },
    "language_info": {
      "name": "python"
    }
  },
  "cells": [
    {
      "cell_type": "markdown",
      "metadata": {
        "id": "view-in-github",
        "colab_type": "text"
      },
      "source": [
        "<a href=\"https://colab.research.google.com/github/financieras/math/blob/main/arboles/notacion_polaca_inversa.ipynb\" target=\"_parent\"><img src=\"https://colab.research.google.com/assets/colab-badge.svg\" alt=\"Open In Colab\"/></a>"
      ]
    },
    {
      "cell_type": "markdown",
      "source": [
        "# Notación Polaca Inversa"
      ],
      "metadata": {
        "id": "z6BRdwqRg_nR"
      }
    },
    {
      "cell_type": "code",
      "execution_count": 6,
      "metadata": {
        "colab": {
          "base_uri": "https://localhost:8080/"
        },
        "id": "tAHAkFdNW5rm",
        "outputId": "f1ccaa68-68d3-46d7-b381-dca91cb029db"
      },
      "outputs": [
        {
          "output_type": "stream",
          "name": "stdout",
          "text": [
            " ### Reverse Polish Notation Parser ###\n",
            "Expression 1:\n",
            "8 9 * 9 - 9 - 9 - 4 - 1 +\n",
            "42.0\n",
            "\n",
            "\n",
            "Expression 2:\n",
            "7 7 * 7 -\n",
            "42.0\n",
            "\n",
            "\n",
            "Expression 3:\n",
            "1 2 * 2 / 2 * 2 4 - +\n",
            "0.0\n"
          ]
        }
      ],
      "source": [
        "#Reverse Polish Notation\n",
        "\n",
        "class Stack:\n",
        "    def __init__(self):\n",
        "        self.items = []\n",
        "\n",
        "    def isEmpty(self):\n",
        "        return self.items == []\n",
        "\n",
        "    def push(self, items):\n",
        "        self.items.append(items)\n",
        "\n",
        "    def pop(self):\n",
        "        return self.items.pop()\n",
        "\n",
        "#Perform a basic arithmetic operation using +,-,*,/\n",
        "def calculate(operator, operand1, operand2):\n",
        "    if operator == \"+\":\n",
        "        return operand1 + operand2\n",
        "    elif operator == \"-\":\n",
        "        return operand1 - operand2\n",
        "    elif operator == \"*\":\n",
        "        return operand1 * operand2\n",
        "    elif operator == \"/\":\n",
        "        return operand1 / operand2\n",
        "\n",
        "#Evaluate an RPN expression\n",
        "def postfixEval(expression):\n",
        "    operators = [\"+\",\"-\",\"*\",\"/\"]\n",
        "    operandStack = Stack()\n",
        "    tokenList = expression.split(\" \")\n",
        "\n",
        "    for token in tokenList:\n",
        "      #Check is the token is an operator or an operand!\n",
        "      if token in operators:\n",
        "        operand2 = operandStack.pop()\n",
        "        operand1 = operandStack.pop()\n",
        "        result = calculate(token,operand1,operand2)\n",
        "        operandStack.push(result)\n",
        "      else: #Toke is an Operand\n",
        "        operandStack.push(float(token))\n",
        "\n",
        "    return operandStack.pop()\n",
        "\n",
        "########################################################\n",
        "print(\" ### Reverse Polish Notation Parser ###\")\n",
        "expression = \"8 9 * 9 - 9 - 9 - 4 - 1 +\"\n",
        "print(\"Expression 1:\")\n",
        "print(expression)\n",
        "print(postfixEval(expression))\n",
        "print(\"\\n\")\n",
        "print(\"Expression 2:\")\n",
        "expression = \"7 7 * 7 -\"\n",
        "print(expression)\n",
        "print(postfixEval(expression))\n",
        "print(\"\\n\")\n",
        "print(\"Expression 3:\")\n",
        "expression = \"1 2 * 2 / 2 * 2 4 - +\"\n",
        "print(expression)\n",
        "print(postfixEval(expression))"
      ]
    }
  ]
}