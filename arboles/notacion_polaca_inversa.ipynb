{
  "nbformat": 4,
  "nbformat_minor": 0,
  "metadata": {
    "colab": {
      "provenance": [],
      "authorship_tag": "ABX9TyPm30jSIYUCLiyfPViTWTde",
      "include_colab_link": true
    },
    "kernelspec": {
      "name": "python3",
      "display_name": "Python 3"
    },
    "language_info": {
      "name": "python"
    }
  },
  "cells": [
    {
      "cell_type": "markdown",
      "metadata": {
        "id": "view-in-github",
        "colab_type": "text"
      },
      "source": [
        "<a href=\"https://colab.research.google.com/github/financieras/math/blob/main/arboles/notacion_polaca_inversa.ipynb\" target=\"_parent\"><img src=\"https://colab.research.google.com/assets/colab-badge.svg\" alt=\"Open In Colab\"/></a>"
      ]
    },
    {
      "cell_type": "markdown",
      "source": [
        "# Notación Polaca Inversa"
      ],
      "metadata": {
        "id": "z6BRdwqRg_nR"
      }
    },
    {
      "cell_type": "code",
      "execution_count": 2,
      "metadata": {
        "colab": {
          "base_uri": "https://localhost:8080/"
        },
        "id": "tAHAkFdNW5rm",
        "outputId": "ff7be10c-7562-4e0d-bcfe-7839efeda9a8"
      },
      "outputs": [
        {
          "output_type": "stream",
          "name": "stdout",
          "text": [
            " ### Reverse Polish Notation Parser ###\n",
            "Expression 1:\n",
            "8 9 * 9 - 9 - 9 - 4 - 1 +\n",
            "42.0\n",
            "\n",
            "\n",
            "Expression 2:\n",
            "7 7 * 7 -\n",
            "42.0\n",
            "\n",
            "\n",
            "Expression 3:\n",
            "1 2 * 2 / 2 * 2 4 - +\n",
            "0.0\n",
            "\n",
            "\n",
            "Expression 4:\n",
            "4 3 ^ 6 2 ^ + 4 5 * + 3 2 ^ 8 2 / - /\n",
            "24.0\n"
          ]
        }
      ],
      "source": [
        "#Reverse Polish Notation\n",
        "\n",
        "class Stack:\n",
        "    def __init__(self):\n",
        "        self.items = []  # Inicializa una lista vacía para almacenar los elementos de la pila.\n",
        "\n",
        "    def isEmpty(self):\n",
        "        return self.items == []  # Comprueba si la pila está vacía o no.\n",
        "\n",
        "    def push(self, items):\n",
        "        self.items.append(items)  # Agrega un elemento a la parte superior de la pila.\n",
        "\n",
        "    def pop(self):\n",
        "        return self.items.pop()  # Elimina y devuelve el elemento superior de la pila.\n",
        "\n",
        "\n",
        "#Perform a basic arithmetic operation using +,-,*,/,^\n",
        "def calculate(operator, operand1, operand2):\n",
        "    if operator == \"+\":\n",
        "        return operand1 + operand2\n",
        "    elif operator == \"-\":\n",
        "        return operand1 - operand2\n",
        "    elif operator == \"*\":\n",
        "        return operand1 * operand2\n",
        "    elif operator == \"/\":\n",
        "        return operand1 / operand2\n",
        "    elif operator == \"^\": # exponentiation operator\n",
        "        return operand1 ** operand2\n",
        "\n",
        "#Evaluate an RPN expression\n",
        "def postfixEval(expression):\n",
        "    operators = [\"+\",\"-\",\"*\",\"/\",\"^\"]\n",
        "    operandStack = Stack()\n",
        "    tokenList = expression.split(\" \")\n",
        "\n",
        "    for token in tokenList:\n",
        "      #Check is the token is an operator or an operand!\n",
        "      if token in operators:\n",
        "        operand2 = operandStack.pop()\n",
        "        operand1 = operandStack.pop()\n",
        "        result = calculate(token,operand1,operand2)\n",
        "        operandStack.push(result)\n",
        "      else: #Toke is an Operand\n",
        "        operandStack.push(float(token))\n",
        "\n",
        "    return operandStack.pop()\n",
        "\n",
        "########################################################\n",
        "print(\" ### Reverse Polish Notation Parser ###\")\n",
        "expression = \"8 9 * 9 - 9 - 9 - 4 - 1 +\"\n",
        "print(\"Expression 1:\")\n",
        "print(expression)\n",
        "print(postfixEval(expression))\n",
        "print(\"\\n\")\n",
        "print(\"Expression 2:\")\n",
        "expression = \"7 7 * 7 -\"\n",
        "print(expression)\n",
        "print(postfixEval(expression))\n",
        "print(\"\\n\")\n",
        "print(\"Expression 3:\")\n",
        "expression = \"1 2 * 2 / 2 * 2 4 - +\"\n",
        "print(expression)\n",
        "print(postfixEval(expression))\n",
        "print(\"\\n\")\n",
        "print(\"Expression 4:\")\n",
        "expression = \"4 3 ^ 6 2 ^ + 4 5 * + 3 2 ^ 8 2 / - /\"\n",
        "print(expression)\n",
        "print(postfixEval(expression))"
      ]
    }
  ]
}