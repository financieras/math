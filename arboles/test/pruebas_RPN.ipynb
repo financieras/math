{
  "nbformat": 4,
  "nbformat_minor": 0,
  "metadata": {
    "colab": {
      "provenance": [],
      "authorship_tag": "ABX9TyOMyQNRuJrS7TMeNxeTwc8b",
      "include_colab_link": true
    },
    "kernelspec": {
      "name": "python3",
      "display_name": "Python 3"
    },
    "language_info": {
      "name": "python"
    }
  },
  "cells": [
    {
      "cell_type": "markdown",
      "metadata": {
        "id": "view-in-github",
        "colab_type": "text"
      },
      "source": [
        "<a href=\"https://colab.research.google.com/github/financieras/math/blob/main/arboles/test/pruebas_RPN.ipynb\" target=\"_parent\"><img src=\"https://colab.research.google.com/assets/colab-badge.svg\" alt=\"Open In Colab\"/></a>"
      ]
    },
    {
      "cell_type": "code",
      "execution_count": 9,
      "metadata": {
        "colab": {
          "base_uri": "https://localhost:8080/"
        },
        "id": "zy1D38I7WDrI",
        "outputId": "18e3d170-d544-46b3-ca4e-99ea5bc8a510"
      },
      "outputs": [
        {
          "output_type": "stream",
          "name": "stdout",
          "text": [
            "Contenido de la pila: [5, 10, 15]\n"
          ]
        }
      ],
      "source": [
        "class Stack:\n",
        "    def __init__(self):\n",
        "        self.items = []  # Inicializa una lista vacía para almacenar los elementos de la pila.\n",
        "\n",
        "    def isEmpty(self):\n",
        "        return self.items == []  # Comprueba si la pila está vacía o no.\n",
        "\n",
        "    def push(self, items):\n",
        "        self.items.append(items)  # Agrega un elemento a la parte superior de la pila.\n",
        "\n",
        "    def pop(self):\n",
        "        return self.items.pop()  # Elimina y devuelve el elemento superior de la pila.\n",
        "\n",
        "    def __str__(self):\n",
        "        return str(self.items)  # Devuelve una representación de la lista de elementos de la pila como una cadena\n",
        "\n",
        "# Ejemplo de uso:\n",
        "stack = Stack()\n",
        "stack.push(5)\n",
        "stack.push(10)\n",
        "stack.push(15)\n",
        "\n",
        "print(\"Contenido de la pila:\", stack)  # Al imprimir la pila, se llamará al método __str__"
      ]
    },
    {
      "cell_type": "code",
      "source": [
        "pila = Stack()\n",
        "t = [\"1\", \"2\", \"+\"]"
      ],
      "metadata": {
        "id": "zu-YmPqRWGcq"
      },
      "execution_count": 3,
      "outputs": []
    },
    {
      "cell_type": "code",
      "source": [
        "pila.isEmpty()"
      ],
      "metadata": {
        "colab": {
          "base_uri": "https://localhost:8080/"
        },
        "id": "l7WiZ2e7WgTI",
        "outputId": "ae743e0e-bba1-411d-86cf-86d0db94598b"
      },
      "execution_count": 5,
      "outputs": [
        {
          "output_type": "execute_result",
          "data": {
            "text/plain": [
              "True"
            ]
          },
          "metadata": {},
          "execution_count": 5
        }
      ]
    },
    {
      "cell_type": "code",
      "source": [
        "pila.push(\"1\")\n",
        "pila.push(\"2\")\n",
        "pila.push(\"+\")"
      ],
      "metadata": {
        "id": "PBlhQ0ocWvXe"
      },
      "execution_count": 7,
      "outputs": []
    },
    {
      "cell_type": "code",
      "source": [
        "pila.pop()"
      ],
      "metadata": {
        "colab": {
          "base_uri": "https://localhost:8080/",
          "height": 35
        },
        "id": "X7hHuRbQW7tu",
        "outputId": "3649ae7f-7af1-4181-8f1e-44a44b3d6cae"
      },
      "execution_count": 8,
      "outputs": [
        {
          "output_type": "execute_result",
          "data": {
            "text/plain": [
              "'1'"
            ],
            "application/vnd.google.colaboratory.intrinsic+json": {
              "type": "string"
            }
          },
          "metadata": {},
          "execution_count": 8
        }
      ]
    }
  ]
}