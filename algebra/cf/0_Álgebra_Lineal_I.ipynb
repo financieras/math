{
  "nbformat": 4,
  "nbformat_minor": 0,
  "metadata": {
    "colab": {
      "provenance": [],
      "include_colab_link": true
    },
    "kernelspec": {
      "name": "python3",
      "display_name": "Python 3"
    },
    "language_info": {
      "name": "python"
    }
  },
  "cells": [
    {
      "cell_type": "markdown",
      "metadata": {
        "id": "view-in-github",
        "colab_type": "text"
      },
      "source": [
        "<a href=\"https://colab.research.google.com/github/financieras/math/blob/main/algebra/cf/0_%C3%81lgebra_Lineal_I.ipynb\" target=\"_parent\"><img src=\"https://colab.research.google.com/assets/colab-badge.svg\" alt=\"Open In Colab\"/></a>"
      ]
    },
    {
      "cell_type": "markdown",
      "source": [
        "# Vectores"
      ],
      "metadata": {
        "id": "XASFxUqdmzWv"
      }
    },
    {
      "cell_type": "markdown",
      "source": [
        "## ¿Qué es un vector?\n"
      ],
      "metadata": {
        "id": "LmwefSF0nCzv"
      }
    },
    {
      "cell_type": "markdown",
      "source": [],
      "metadata": {
        "id": "f6wEL3zBqeWA"
      }
    },
    {
      "cell_type": "code",
      "source": [
        "import numpy as np"
      ],
      "metadata": {
        "id": "s--JRM3vnCID"
      },
      "execution_count": null,
      "outputs": []
    },
    {
      "cell_type": "code",
      "source": [
        "# Creación de un vector\n",
        "vector = np.array([2, 3])\n",
        "print(\"Vector:\", vector)\n"
      ],
      "metadata": {
        "colab": {
          "base_uri": "https://localhost:8080/"
        },
        "id": "dJmuZyV_vQ5n",
        "outputId": "d3331f3e-a232-4fde-9010-82dcedda5c55"
      },
      "execution_count": null,
      "outputs": [
        {
          "output_type": "stream",
          "name": "stdout",
          "text": [
            "Vector: [2 3]\n"
          ]
        }
      ]
    },
    {
      "cell_type": "markdown",
      "source": [
        "## ¿Qué es un espacio vectorial?"
      ],
      "metadata": {
        "id": "euiN21DRnEOZ"
      }
    },
    {
      "cell_type": "markdown",
      "source": [
        "Un espacio vectorial $V$ necesita cumplir las siguientes características para cualquier $u, v, w \\in V$:\n",
        "- **Propiedad asociativa:** $$(u+v)+w=u+(v+w)$$\n",
        "- **Propiedad conmutativa:** $$u+v=v+u$$\n",
        "- **Propiedad distributiva:** Si $c\\in\\mathbb{R}$, $$c(u+v)=cu+cv$$\n",
        "- **Existencia de elemento neutro:** Existe un $0$ tal que $$0+u=u+0=u$$ para todo $u \\in V$\n",
        "- **Existencia del elemento inverso:** Dado un $u \\in V$, existe un $-u \\in V$ tal que $$u+(-u)=0$$\n",
        "- **Existencia del elemento neutro:** Dado un $u \\in V$, existe un $1 \\in V$ tal que $$1 \\cdot u = u$$"
      ],
      "metadata": {
        "id": "VDWZqKqTuD9y"
      }
    },
    {
      "cell_type": "code",
      "source": [
        "# Espacio vectorial en 2D\n",
        "v1 = np.array([1, 2])\n",
        "v2 = np.array([3, 4])\n",
        "v3 = np.array([-1, 0])\n",
        "u1 = np.array([4,-1,2])"
      ],
      "metadata": {
        "id": "cTBrNI_5vvc0"
      },
      "execution_count": null,
      "outputs": []
    },
    {
      "cell_type": "markdown",
      "source": [
        "## Operaciones básicas sobre vectores: suma y multiplicación\n"
      ],
      "metadata": {
        "id": "MH_aHtq0nFlo"
      }
    },
    {
      "cell_type": "code",
      "source": [
        "# Suma de vectores\n",
        "result_sum = v1 + v2\n",
        "print(\"Suma de v1 y v2:\", result_sum)"
      ],
      "metadata": {
        "colab": {
          "base_uri": "https://localhost:8080/"
        },
        "id": "x92P4Eb1vQzv",
        "outputId": "44435ec4-900f-4c59-b27b-4aac6799e650"
      },
      "execution_count": null,
      "outputs": [
        {
          "output_type": "stream",
          "name": "stdout",
          "text": [
            "Suma de v1 y v2: [4 6]\n"
          ]
        }
      ]
    },
    {
      "cell_type": "code",
      "source": [
        "# Multiplicación por escalar\n",
        "scalar = 2\n",
        "result_scalar = scalar * v1\n",
        "print(\"Multiplicación por escalar:\", result_scalar)"
      ],
      "metadata": {
        "colab": {
          "base_uri": "https://localhost:8080/"
        },
        "id": "FzhbTifQG5uJ",
        "outputId": "773e0c49-8f07-41e3-9dd5-0b3609a310ee"
      },
      "execution_count": null,
      "outputs": [
        {
          "output_type": "stream",
          "name": "stdout",
          "text": [
            "Multiplicación por escalar: [2 4]\n"
          ]
        }
      ]
    },
    {
      "cell_type": "markdown",
      "source": [
        "## Normas en vectores"
      ],
      "metadata": {
        "id": "9lY-MRTQnHEe"
      }
    },
    {
      "cell_type": "code",
      "source": [
        "#vector = np.array([2, 3])\n",
        "\n",
        "# Norma euclidiana\n",
        "norm_l2 = np.linalg.norm(vector)\n",
        "print(\"Norma L2 del vector:\", norm_l2)\n",
        "\n",
        "# Norma taxicab\n",
        "norm_l1 = np.linalg.norm(vector, ord=1)\n",
        "print(\"Norma L1 del vector:\", norm_l1)\n"
      ],
      "metadata": {
        "colab": {
          "base_uri": "https://localhost:8080/"
        },
        "id": "x1-h0glmv4NH",
        "outputId": "8dbe4356-5813-40e6-8b5b-d33262997d44"
      },
      "execution_count": null,
      "outputs": [
        {
          "output_type": "stream",
          "name": "stdout",
          "text": [
            "Norma L2 del vector: 3.605551275463989\n",
            "Norma L1 del vector: 5.0\n"
          ]
        }
      ]
    },
    {
      "cell_type": "markdown",
      "source": [
        "## Producto interno o producto escalar"
      ],
      "metadata": {
        "id": "5RKz_pIInKwm"
      }
    },
    {
      "cell_type": "code",
      "source": [
        "# Producto interno de dos vectores\n",
        "# v1 = np.array([1, 2])\n",
        "v4 = np.array([2, 4])\n",
        "dot_product = np.dot(v1, v4)\n",
        "print(\"Producto interno entre v1 y v4:\", dot_product)"
      ],
      "metadata": {
        "colab": {
          "base_uri": "https://localhost:8080/"
        },
        "id": "rdck9U6RwTX7",
        "outputId": "55a1ee9c-77d4-4555-ee79-76448637b3f8"
      },
      "execution_count": null,
      "outputs": [
        {
          "output_type": "stream",
          "name": "stdout",
          "text": [
            "Producto interno entre v1 y v4: 10\n"
          ]
        }
      ]
    },
    {
      "cell_type": "markdown",
      "source": [
        "## Representación de vectores en Python (usando NumPy)"
      ],
      "metadata": {
        "id": "Ecx5ZcQZnLAv"
      }
    },
    {
      "cell_type": "code",
      "source": [],
      "metadata": {
        "id": "eueEwb5MwV0j"
      },
      "execution_count": null,
      "outputs": []
    },
    {
      "cell_type": "markdown",
      "source": [
        "# Matrices"
      ],
      "metadata": {
        "id": "-DaRUvhInL71"
      }
    },
    {
      "cell_type": "markdown",
      "source": [
        "## Bases del álgebra matricial (álgebra lineal)"
      ],
      "metadata": {
        "id": "BUeGvfbDnMJk"
      }
    },
    {
      "cell_type": "code",
      "source": [
        "# Crear una matriz\n",
        "matriz = np.array([[1, 2, 3], [4, 5, 6], [7, 8, 9]])\n",
        "print(\"Matriz:\")\n",
        "print(matriz)"
      ],
      "metadata": {
        "colab": {
          "base_uri": "https://localhost:8080/"
        },
        "id": "NKDxi_F8nPOs",
        "outputId": "5c1b357d-e928-406b-aa65-33a065cbc1da"
      },
      "execution_count": null,
      "outputs": [
        {
          "output_type": "stream",
          "name": "stdout",
          "text": [
            "Matriz:\n",
            "[[1 2 3]\n",
            " [4 5 6]\n",
            " [7 8 9]]\n"
          ]
        }
      ]
    },
    {
      "cell_type": "markdown",
      "source": [
        " ### Suma y multiplicación por un escalar"
      ],
      "metadata": {
        "id": "KWWKXvpJnm-k"
      }
    },
    {
      "cell_type": "code",
      "source": [
        "# Crear dos matrices\n",
        "matriz1 = np.array([[1, 2, 3], [4, -5, 6], [7, 8, 9]])\n",
        "matriz2 = np.array([[2, 4, -1], [-2, 5, 3], [7, -2, -1]])\n",
        "\n",
        "# Suma de matrices\n",
        "resultado = matriz1 + matriz2\n",
        "print(\"Matriz 1:\")\n",
        "print(matriz1)\n",
        "print(\"Matriz 2:\")\n",
        "print(matriz2)\n",
        "print(\"Suma de Matrices:\")\n",
        "print(resultado)"
      ],
      "metadata": {
        "colab": {
          "base_uri": "https://localhost:8080/"
        },
        "id": "7vOhqXPtztiE",
        "outputId": "e8579b50-9190-47b0-eca8-fc5a060076d5"
      },
      "execution_count": null,
      "outputs": [
        {
          "output_type": "stream",
          "name": "stdout",
          "text": [
            "Matriz 1:\n",
            "[[ 1  2  3]\n",
            " [ 4 -5  6]\n",
            " [ 7  8  9]]\n",
            "Matriz 2:\n",
            "[[ 2  4 -1]\n",
            " [-2  5  3]\n",
            " [ 7 -2 -1]]\n",
            "Suma de Matrices:\n",
            "[[ 3  6  2]\n",
            " [ 2  0  9]\n",
            " [14  6  8]]\n"
          ]
        }
      ]
    },
    {
      "cell_type": "markdown",
      "source": [
        "### Multiplicación entre matrices y vectores"
      ],
      "metadata": {
        "id": "BMFNZYscnMZB"
      }
    },
    {
      "cell_type": "code",
      "source": [
        "# Multiplicación de matriz por vector\n",
        "matrix = np.array([[1, 2], [3, 4]])\n",
        "vector = np.array([5, 6])\n",
        "result_vector = np.dot(matrix, vector)\n",
        "print(\"Matriz por vector:\\n\", result_vector)\n"
      ],
      "metadata": {
        "colab": {
          "base_uri": "https://localhost:8080/"
        },
        "id": "2P7vHo1cwo94",
        "outputId": "85a06071-4924-4141-b1ad-72aa77ae9880"
      },
      "execution_count": null,
      "outputs": [
        {
          "output_type": "stream",
          "name": "stdout",
          "text": [
            "Matriz por vector:\n",
            " [17 39]\n"
          ]
        }
      ]
    },
    {
      "cell_type": "markdown",
      "source": [
        "### Multiplicación entre matrices*"
      ],
      "metadata": {
        "id": "2hGnACNKz1KW"
      }
    },
    {
      "cell_type": "code",
      "source": [
        "# Crear dos matrices\n",
        "matriz1 = np.array([[1, 2], [3, 4]])\n",
        "matriz2 = np.array([[5, 6], [7, 8]])\n",
        "\n",
        "# Multiplicación de matrices\n",
        "resultado = np.dot(matriz1, matriz2)\n",
        "print(\"Matriz 1:\")\n",
        "print(matriz1)\n",
        "print(\"Matriz 2:\")\n",
        "print(matriz2)\n",
        "print(\"Multiplicación de Matrices:\")\n",
        "print(resultado)"
      ],
      "metadata": {
        "colab": {
          "base_uri": "https://localhost:8080/"
        },
        "id": "nJ5jOFICz4mE",
        "outputId": "7b9c2006-25c8-4c1b-b274-ab3e8eab4047"
      },
      "execution_count": null,
      "outputs": [
        {
          "output_type": "stream",
          "name": "stdout",
          "text": [
            "Matriz 1:\n",
            "[[1 2]\n",
            " [3 4]]\n",
            "Matriz 2:\n",
            "[[5 6]\n",
            " [7 8]]\n",
            "Multiplicación de Matrices:\n",
            "[[19 22]\n",
            " [43 50]]\n"
          ]
        }
      ]
    },
    {
      "cell_type": "code",
      "source": [
        "# Crear dos matrices\n",
        "matrizA = np.array([[1, 3], [2, 4], [2, 5]])\n",
        "matrizB = np.array([[1, 3, 2, 2], [2, 4, 5, 1]])\n",
        "\n",
        "# Multiplicación de matrices\n",
        "resultado = np.dot(matrizA, matrizB)\n",
        "print(\"Matriz A:\")\n",
        "print(matrizA)\n",
        "print(\"Matriz B:\")\n",
        "print(matrizB)\n",
        "print(\"Multiplicación de Matrices:\")\n",
        "print(resultado)"
      ],
      "metadata": {
        "colab": {
          "base_uri": "https://localhost:8080/"
        },
        "id": "brPWE1cZP1X4",
        "outputId": "bd0266d6-5c04-4618-aef1-976067250848"
      },
      "execution_count": null,
      "outputs": [
        {
          "output_type": "stream",
          "name": "stdout",
          "text": [
            "Matriz A:\n",
            "[[1 3]\n",
            " [2 4]\n",
            " [2 5]]\n",
            "Matriz B:\n",
            "[[1 3 2 2]\n",
            " [2 4 5 1]]\n",
            "Multiplicación de Matrices:\n",
            "[[ 7 15 17  5]\n",
            " [10 22 24  8]\n",
            " [12 26 29  9]]\n"
          ]
        }
      ]
    },
    {
      "cell_type": "markdown",
      "source": [
        "### Potencia de matrices"
      ],
      "metadata": {
        "id": "OS0gHgfsnT64"
      }
    },
    {
      "cell_type": "code",
      "source": [
        "# Potencia de matriz\n",
        "matrix = np.array([[1, 2], [3, 4]])\n",
        "power = 2\n",
        "result_matrix = np.linalg.matrix_power(matrix, power)\n",
        "print(\"Matriz elevada a la potencia 2:\\n\", result_matrix)"
      ],
      "metadata": {
        "colab": {
          "base_uri": "https://localhost:8080/"
        },
        "id": "AqBTreHawrYa",
        "outputId": "5aee4299-00bf-4c70-ed30-46c0529cde50"
      },
      "execution_count": null,
      "outputs": [
        {
          "output_type": "stream",
          "name": "stdout",
          "text": [
            "Matriz elevada a la potencia 2:\n",
            " [[ 7 10]\n",
            " [15 22]]\n"
          ]
        }
      ]
    },
    {
      "cell_type": "markdown",
      "source": [
        "### Transposición de matrices"
      ],
      "metadata": {
        "id": "GF6QuCGonVQv"
      }
    },
    {
      "cell_type": "code",
      "source": [
        "# Transposición de matriz\n",
        "matrix = np.array([[1, 2], [3, 4]])\n",
        "transposed_matrix = np.transpose(matrix)\n",
        "print(\"Matriz original:\\n\", matrix)\n",
        "print(\"Matriz transpuesta:\\n\", transposed_matrix)"
      ],
      "metadata": {
        "colab": {
          "base_uri": "https://localhost:8080/"
        },
        "id": "FQL188tlwt1k",
        "outputId": "622f483f-699e-471c-e678-3b80d7850c6c"
      },
      "execution_count": null,
      "outputs": [
        {
          "output_type": "stream",
          "name": "stdout",
          "text": [
            "Matriz original:\n",
            " [[1 2]\n",
            " [3 4]]\n",
            "Matriz transpuesta:\n",
            " [[1 3]\n",
            " [2 4]]\n"
          ]
        }
      ]
    },
    {
      "cell_type": "markdown",
      "source": [
        "## Matriz Inversa"
      ],
      "metadata": {
        "id": "3hDija5vVjFo"
      }
    },
    {
      "cell_type": "code",
      "source": [
        "# Inversa de matriz\n",
        "matrix = np.array([[3, 2], [1, 4]])\n",
        "inv_matrix = np.linalg.inv(matrix)\n",
        "print(\"Matriz original:\\n\", inv_matrix)"
      ],
      "metadata": {
        "colab": {
          "base_uri": "https://localhost:8080/"
        },
        "id": "-9aldsXUVk6K",
        "outputId": "312b6f13-5fd5-4b66-ab14-649829950877"
      },
      "execution_count": null,
      "outputs": [
        {
          "output_type": "stream",
          "name": "stdout",
          "text": [
            "Matriz original:\n",
            " [[ 0.4 -0.2]\n",
            " [-0.1  0.3]]\n"
          ]
        }
      ]
    },
    {
      "cell_type": "code",
      "source": [
        "# Inversa de matriz\n",
        "matrix = np.array([[3, 2, 5], [1, 2, 4], [-1, -2, 2]])\n",
        "inv_matrix = np.linalg.inv(matrix)\n",
        "print(\"Matriz original:\\n\", inv_matrix)"
      ],
      "metadata": {
        "colab": {
          "base_uri": "https://localhost:8080/"
        },
        "id": "UCfjzGqSV0GM",
        "outputId": "e203aefe-a273-4622-f6fc-8e07e87f9af4"
      },
      "execution_count": null,
      "outputs": [
        {
          "output_type": "stream",
          "name": "stdout",
          "text": [
            "Matriz original:\n",
            " [[ 0.5        -0.58333333 -0.08333333]\n",
            " [-0.25        0.45833333 -0.29166667]\n",
            " [ 0.          0.16666667  0.16666667]]\n"
          ]
        }
      ]
    },
    {
      "cell_type": "markdown",
      "source": [
        "## Propiedades de una matriz: la diagonal"
      ],
      "metadata": {
        "id": "gnw6-cTPnVeg"
      }
    },
    {
      "cell_type": "markdown",
      "source": [
        "Las matrices diagonales tienen todos los elementos fuera de la diagonal igual a cero."
      ],
      "metadata": {
        "id": "Dic6mHtynbgN"
      }
    },
    {
      "cell_type": "code",
      "source": [
        "# Matriz diagonal\n",
        "diagonal_matrix = np.diag([1, 2, 3])\n",
        "print(\"Matriz diagonal:\\n\", diagonal_matrix)"
      ],
      "metadata": {
        "colab": {
          "base_uri": "https://localhost:8080/"
        },
        "id": "biNrmvJ6wxJL",
        "outputId": "bfd8d394-6259-4cc3-d34f-3c8b55681f42"
      },
      "execution_count": null,
      "outputs": [
        {
          "output_type": "stream",
          "name": "stdout",
          "text": [
            "Matriz diagonal:\n",
            " [[1 0 0 0 0 0]\n",
            " [0 2 0 0 0 0]\n",
            " [0 0 3 0 0 0]\n",
            " [0 0 0 4 0 0]\n",
            " [0 0 0 0 5 0]\n",
            " [0 0 0 0 0 6]]\n"
          ]
        }
      ]
    },
    {
      "cell_type": "markdown",
      "source": [
        "## Matrices especiales"
      ],
      "metadata": {
        "id": "V4Kq8YwJnVqu"
      }
    },
    {
      "cell_type": "markdown",
      "source": [
        "### Matriz identidad"
      ],
      "metadata": {
        "id": "bEZwsY0JnuCS"
      }
    },
    {
      "cell_type": "code",
      "source": [
        "# Matriz identidad\n",
        "identity_matrix = np.identity(3)\n",
        "print(\"Matriz identidad:\\n\", identity_matrix)"
      ],
      "metadata": {
        "colab": {
          "base_uri": "https://localhost:8080/"
        },
        "id": "7hrQ6RwTw4jq",
        "outputId": "e8ea6fde-564c-4f22-a304-3a26e722b5a4"
      },
      "execution_count": null,
      "outputs": [
        {
          "output_type": "stream",
          "name": "stdout",
          "text": [
            "Matriz identidad:\n",
            " [[1. 0. 0.]\n",
            " [0. 1. 0.]\n",
            " [0. 0. 1.]]\n"
          ]
        }
      ]
    },
    {
      "cell_type": "markdown",
      "source": [
        "### Matriz cero"
      ],
      "metadata": {
        "id": "YaTV6UH_nxMW"
      }
    },
    {
      "cell_type": "code",
      "source": [
        "# Matriz cero\n",
        "zero_matrix = np.zeros((2, 2))\n",
        "print(\"Matriz cero:\\n\", zero_matrix)"
      ],
      "metadata": {
        "colab": {
          "base_uri": "https://localhost:8080/"
        },
        "id": "p-FTarliw6fm",
        "outputId": "0ad8d3de-42d1-4e27-dbc8-cb566800fe68"
      },
      "execution_count": null,
      "outputs": [
        {
          "output_type": "stream",
          "name": "stdout",
          "text": [
            "Matriz cero:\n",
            " [[0. 0.]\n",
            " [0. 0.]]\n"
          ]
        }
      ]
    },
    {
      "cell_type": "markdown",
      "source": [
        "### Matrices cuadradas"
      ],
      "metadata": {
        "id": "gOXSY5nAn0eZ"
      }
    },
    {
      "cell_type": "markdown",
      "source": [
        "### Matrices triangulares"
      ],
      "metadata": {
        "id": "c0zHmhNQn2qw"
      }
    },
    {
      "cell_type": "markdown",
      "source": [
        "## Representación de matrices en Python usando NumPy"
      ],
      "metadata": {
        "id": "YpMJuvs4nZ3B"
      }
    },
    {
      "cell_type": "markdown",
      "source": [
        "## Matrices dispersas"
      ],
      "metadata": {
        "id": "nxKFHd5qnYP5"
      }
    },
    {
      "cell_type": "markdown",
      "source": [
        "Las matrices dispersas son de gran importancia en diversas aplicaciones y campos debido a que permiten ahorrar memoria y mejorar la eficiencia computacional cuando se trabaja con conjuntos de datos en los que la mayoría de los elementos son ceros.\n",
        "\n",
        "La elección del formato de representación de matrices dispersas depende en gran medida del tipo de datos y del tipo de operaciones que se realizarán con ellas en una aplicación específica. Cada formato tiene sus propias ventajas y desventajas, y su uso depende de los requerimientos de rendimiento y memoria de una aplicación en particular.\n",
        "\n",
        "En la industria, la elección del formato más utilizado puede variar según el dominio de aplicación. Sin embargo, aquí hay algunas pautas generales:"
      ],
      "metadata": {
        "id": "EjI-7FCSzPgf"
      }
    },
    {
      "cell_type": "markdown",
      "source": [
        "### Formato COO (Coordinates)"
      ],
      "metadata": {
        "id": "wjOsNiQ1yGRf"
      }
    },
    {
      "cell_type": "markdown",
      "source": [
        "Este formato es útil cuando se está construyendo una matriz dispersa, ya que permite agregar elementos de manera sencilla. Puede ser una elección adecuada para la creación y manipulación de matrices dispersas."
      ],
      "metadata": {
        "id": "X2RLDfubzC81"
      }
    },
    {
      "cell_type": "code",
      "source": [
        "from scipy.sparse import coo_matrix\n",
        "\n",
        "# Ejemplo de matriz dispersa en formato COO (Coordenadas)\n",
        "data = np.array([3, 5, 2, 8])\n",
        "row_indices = np.array([0, 1, 2, 2])\n",
        "col_indices = np.array([2, 4, 3, 0])\n",
        "\n",
        "# Crear una matriz dispersa en formato COO\n",
        "sparse_matrix_coo = coo_matrix((data, (row_indices, col_indices)), shape=(3, 5))\n",
        "print(\"Matriz dispersa en formato COO:\")\n",
        "print(sparse_matrix_coo.toarray())"
      ],
      "metadata": {
        "colab": {
          "base_uri": "https://localhost:8080/"
        },
        "id": "MLzdXJttyI-S",
        "outputId": "80ec6d24-f9a5-40b7-902d-16322d04e048"
      },
      "execution_count": null,
      "outputs": [
        {
          "output_type": "stream",
          "name": "stdout",
          "text": [
            "Matriz dispersa en formato COO:\n",
            "[[0 0 3 0 0]\n",
            " [0 0 0 0 5]\n",
            " [8 0 0 2 0]]\n"
          ]
        }
      ]
    },
    {
      "cell_type": "markdown",
      "source": [
        "### Formato CSC (Compressed Sparse Column)"
      ],
      "metadata": {
        "id": "Q1U564bGxsZV"
      }
    },
    {
      "cell_type": "markdown",
      "source": [
        " Este formato suele ser eficiente para operaciones que involucran columnas, como multiplicación de matrices por vectores, resolución de sistemas de ecuaciones lineales, entre otros. Se usa ampliamente en ámbitos como el procesamiento de imágenes y el procesamiento de texto."
      ],
      "metadata": {
        "id": "2tydFghly88D"
      }
    },
    {
      "cell_type": "code",
      "source": [
        "from scipy.sparse import csc_matrix\n",
        "\n",
        "# Ejemplo de matriz dispersa en formato CSC\n",
        "data = np.array([3, 5, 2, 8])\n",
        "row_indices = np.array([0, 1, 2, 2])\n",
        "col_indices = np.array([2, 4, 3, 0])\n",
        "\n",
        "sparse_matrix_csc = csc_matrix((data, (row_indices, col_indices)), shape=(3, 5))\n",
        "print(\"Matriz dispersa en formato CSC:\")\n",
        "print(sparse_matrix_csc.toarray())"
      ],
      "metadata": {
        "colab": {
          "base_uri": "https://localhost:8080/"
        },
        "id": "WzLJoUYHxuSs",
        "outputId": "7af85985-2b00-4bb7-83fb-d74302d0c64e"
      },
      "execution_count": null,
      "outputs": [
        {
          "output_type": "stream",
          "name": "stdout",
          "text": [
            "Matriz dispersa en formato CSC:\n",
            "[[0 0 3 0 0]\n",
            " [0 0 0 0 5]\n",
            " [8 0 0 2 0]]\n"
          ]
        }
      ]
    },
    {
      "cell_type": "markdown",
      "source": [
        "### Formato CSR (Compressed Sparse Row)"
      ],
      "metadata": {
        "id": "qMQsX-w-yPZG"
      }
    },
    {
      "cell_type": "markdown",
      "source": [
        "Similar al formato CSC, es eficiente para operaciones que involucran filas. También se usa comúnmente en aplicaciones relacionadas con datos dispersos."
      ],
      "metadata": {
        "id": "kXUve1U9zAiq"
      }
    },
    {
      "cell_type": "code",
      "source": [
        "from scipy.sparse import csr_matrix\n",
        "\n",
        "# Ejemplo de matriz dispersa en formato CSR (Compressed Sparse Row)\n",
        "data = np.array([4, 1, 7])\n",
        "row_ptr = np.array([0, 1, 2, 3])\n",
        "col_indices = np.array([0, 1, 3])\n",
        "\n",
        "# Crear una matriz dispersa en formato CSR\n",
        "sparse_matrix_csr = csr_matrix((data, col_indices, row_ptr), shape=(3, 5))\n",
        "print(\"\\nMatriz dispersa en formato CSR:\")\n",
        "print(sparse_matrix_csr.toarray())"
      ],
      "metadata": {
        "colab": {
          "base_uri": "https://localhost:8080/"
        },
        "id": "4RnDVt9IyTie",
        "outputId": "85a2520b-c1b4-485b-d9c7-fab92beb355a"
      },
      "execution_count": null,
      "outputs": [
        {
          "output_type": "stream",
          "name": "stdout",
          "text": [
            "\n",
            "Matriz dispersa en formato CSR:\n",
            "[[4 0 0 0 0]\n",
            " [0 1 0 0 0]\n",
            " [0 0 0 7 0]]\n"
          ]
        }
      ]
    },
    {
      "cell_type": "markdown",
      "source": [
        "### Formato LIL (List of List)"
      ],
      "metadata": {
        "id": "MiNeGdWCx14v"
      }
    },
    {
      "cell_type": "markdown",
      "source": [
        "El formato LIL es útil cuando se necesita una construcción incremental de matrices dispersas. Puede ser una elección razonable en aplicaciones donde la matriz se crea paso a paso."
      ],
      "metadata": {
        "id": "5T_w2ee1zFHe"
      }
    },
    {
      "cell_type": "code",
      "source": [
        "from scipy.sparse import lil_matrix\n",
        "\n",
        "# Ejemplo de matriz dispersa en formato LIL\n",
        "sparse_matrix_lil = lil_matrix((3, 5))\n",
        "\n",
        "# Rellenar la matriz dispersa LIL\n",
        "sparse_matrix_lil[0, 2] = 3\n",
        "sparse_matrix_lil[1, 4] = 5\n",
        "sparse_matrix_lil[2, 3] = 2\n",
        "sparse_matrix_lil[2, 0] = 8\n",
        "\n",
        "print(\"\\nMatriz dispersa en formato LIL:\")\n",
        "print(sparse_matrix_lil.toarray())"
      ],
      "metadata": {
        "colab": {
          "base_uri": "https://localhost:8080/"
        },
        "id": "sLJ-sIMDx4Qq",
        "outputId": "ec00d131-1365-424c-9210-306803ff57a6"
      },
      "execution_count": null,
      "outputs": [
        {
          "output_type": "stream",
          "name": "stdout",
          "text": [
            "\n",
            "Matriz dispersa en formato LIL:\n",
            "[[0. 0. 3. 0. 0.]\n",
            " [0. 0. 0. 0. 5.]\n",
            " [8. 0. 0. 2. 0.]]\n"
          ]
        }
      ]
    },
    {
      "cell_type": "markdown",
      "source": [
        "### Formato DOK (Dictionary of Keys)"
      ],
      "metadata": {
        "id": "2bEPQ9EKx8Sk"
      }
    },
    {
      "cell_type": "markdown",
      "source": [
        "Similar al formato LIL, DOK es útil para la construcción incremental de matrices. Es eficiente para establecer elementos individuales y puede ser adecuado en aplicaciones con una construcción esparcida incremental."
      ],
      "metadata": {
        "id": "O9OfL2nkzJTZ"
      }
    },
    {
      "cell_type": "code",
      "source": [
        "from scipy.sparse import dok_matrix\n",
        "\n",
        "# Ejemplo de matriz dispersa en formato DOK\n",
        "sparse_matrix_dok = dok_matrix((3, 5))\n",
        "\n",
        "# Rellenar la matriz dispersa DOK\n",
        "sparse_matrix_dok[0, 2] = 3\n",
        "sparse_matrix_dok[1, 4] = 5\n",
        "sparse_matrix_dok[2, 3] = 2\n",
        "sparse_matrix_dok[2, 0] = 8\n",
        "\n",
        "print(\"\\nMatriz dispersa en formato DOK:\")\n",
        "print(sparse_matrix_dok.toarray())"
      ],
      "metadata": {
        "colab": {
          "base_uri": "https://localhost:8080/"
        },
        "id": "n4-VUg2cx6eN",
        "outputId": "90d3d1c6-3ba8-4f47-8c29-b8cf3b0baf24"
      },
      "execution_count": null,
      "outputs": [
        {
          "output_type": "stream",
          "name": "stdout",
          "text": [
            "\n",
            "Matriz dispersa en formato DOK:\n",
            "[[0. 0. 3. 0. 0.]\n",
            " [0. 0. 0. 0. 5.]\n",
            " [8. 0. 0. 2. 0.]]\n"
          ]
        }
      ]
    }
  ]
}