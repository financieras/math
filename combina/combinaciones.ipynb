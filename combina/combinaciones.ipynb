{
  "nbformat": 4,
  "nbformat_minor": 0,
  "metadata": {
    "colab": {
      "provenance": [],
      "authorship_tag": "ABX9TyNoo4xs4LXPdthQGMroRPzc",
      "include_colab_link": true
    },
    "kernelspec": {
      "name": "python3",
      "display_name": "Python 3"
    },
    "language_info": {
      "name": "python"
    }
  },
  "cells": [
    {
      "cell_type": "markdown",
      "metadata": {
        "id": "view-in-github",
        "colab_type": "text"
      },
      "source": [
        "<a href=\"https://colab.research.google.com/github/financieras/math/blob/main/combina/combinaciones.ipynb\" target=\"_parent\"><img src=\"https://colab.research.google.com/assets/colab-badge.svg\" alt=\"Open In Colab\"/></a>"
      ]
    },
    {
      "cell_type": "markdown",
      "source": [
        "# Combinaciones\n",
        "Las combinaciones nos permiten obtener el númeo de casos que se pueden formar al elegir elementos si **no importa el orden** en el que se elijan."
      ],
      "metadata": {
        "id": "2nIdgg9NzD4g"
      }
    },
    {
      "cell_type": "markdown",
      "source": [
        "## Combinaciones sin repetición\n",
        "* En las combinaciones son indistinguibles los lugares que ocupan los elementos.\n",
        "* Si tres amigos reciben un premio y no se distingue entre los tres premios, estaremos en un caso de combinaciones, por el contrario si fueran los puestos en un podium (oro, plata, bronce) estaríamos en un caso de permutaciones.\n",
        "* El orden no importa\n",
        "* Si estamos en combinaciones AB es lo mismo que BA, el orden no importa\n",
        "* Estamos en el caso de combinaciones sin repetición\n",
        "* Las Combinaciones de $m$ elementos tomados de $n$ en $n$ ($m \\geq n$) son todas las agrupaciones posibles que se pueden hacer con $m$ elementos de forma que:\n",
        " - No entran todos los elementos\n",
        " - No importa el orden\n",
        " - No se repiten elementos\n",
        "\n",
        "$$ C^n_m = \\frac{V^n_m}{P_n} $$\n",
        "\n",
        "$$ C^n_m = C_{m,n} = \\binom{m}{n} = \\frac{m!}{n!(m-n)!} \\quad m \\geq n$$"
      ],
      "metadata": {
        "id": "VgHwNpgcRmFt"
      }
    },
    {
      "cell_type": "markdown",
      "source": [
        "### Ejemplo 1. Helado sin repetición\n",
        "* En una heladería pedimos un helado de tres bolas entre los cinco sabores diferentes que tienen.\n",
        "* No se pueden repetir los sabores en nuestro helado.\n",
        "* Son 5 sabores:\n",
        " - N Nata\n",
        " - C Chocolate\n",
        " - V Vainilla\n",
        " - F Fresa\n",
        " - L Limón \n",
        "\n",
        "* Al elegir 3 sabores diferentes es lo mismo NCV que NVC o que VCN, todas las permutaciones cuentan como una sola combinación, ya que el orden no importa.\n",
        "\n",
        "* Combinaciones de 5 elementos tomados de 3 en 3\n",
        "\n",
        "$$C^3_5 = C_{5,3} = \\binom{5}{3} =\\frac{5!}{3!(5-3)!} = \\frac{5!}{3!2!} = \\frac{5 \\cdot 4 \\cdot 3!}{3! \\cdot 2} = 10$$"
      ],
      "metadata": {
        "id": "An5DC7RWTK-B"
      }
    },
    {
      "cell_type": "code",
      "source": [
        "from math import factorial\n",
        "print(f\"Los casos que se obtienen son {int(factorial(5)/factorial(3)/factorial(5-3))}\")"
      ],
      "metadata": {
        "id": "hpesJ7SzVR3S"
      },
      "execution_count": null,
      "outputs": []
    },
    {
      "cell_type": "code",
      "source": [
        "from itertools import combinations\n",
        "c = combinations('NCVFL', 3)\n",
        "\n",
        "for i in c:\n",
        "    print(\"\".join(i), end=\", \")"
      ],
      "metadata": {
        "id": "5PXavrGnT4gr"
      },
      "execution_count": null,
      "outputs": []
    },
    {
      "cell_type": "markdown",
      "source": [
        "## Combinaciones con repetición\n",
        "* Los elementos se pueden repetir\n",
        "* [Combinaciones con repetición](https://es.wikipedia.org/wiki/Combinaciones_con_repetici%C3%B3n) de $m$ elementos tomados de $n$ en $n$.\n",
        " - $m$: son los elementos de los que disponemos\n",
        " - $n$: son los elementos que entran en cada grupo (los elementos seleccionados)\n",
        "\n",
        "\n",
        "$$CR^n_m = CR_{n,m} = C_{n,m+n-1} = \\binom{m+n-1}{n} = \\frac{(m+n-1)!}{n! \\cdot (m-1)!} $$"
      ],
      "metadata": {
        "id": "9IFju_zgVwnk"
      }
    },
    {
      "cell_type": "markdown",
      "source": [
        "### Ejemplo 2. Helado con repetición: 5 sabores, 3 bolas\n",
        "* En una heladería pedimos un helado de 3 bolas entre los 5 sabores diferentes que tienen.\n",
        "* No entran todos los elementos ya que son 5 y el helado solo lleva 3 bolas.\n",
        "* En este caso, SI se pueden repetir los sabores en nuestro helado.\n",
        "* Son 5 sabores:\n",
        " - N Nata\n",
        " - C Chocolate\n",
        " - V Vainilla\n",
        " - F Fresa\n",
        " - L Limón \n",
        "\n",
        "* Al poderse repetir el sabor, podríamos elegir LLN, así tendríamos dos bolas de Limón y una de Nata. En ese caso, es lo mimso que LNL o que NLL, todas las permutaciones constituyen la misma combinación, el orden no importa.\n",
        "\n",
        "* ¿Importa el orden en el que tomemos los sabores? $\\longrightarrow \\quad $ No\n",
        "* Número de elementos diferentes disponibles $\\longrightarrow \\quad m=5$\n",
        "* Número de elementos a colocar en cada grupo: $\\longrightarrow \\quad n=3$\n",
        "* ¿Se pueden repetir? $\\longrightarrow \\quad $ Si\n",
        "* Estamos en un caso de Combinaciones con repetición de 5 elementos tomados de 3 en 3.\n",
        "\n",
        "$$ CR^3_5 = CR_{5,3} = \\binom{5+3-1}{3} = \\frac{(5+3-1)!}{3! \\cdot (5-1)!} = \\frac{7!}{3! \\cdot 4!} = \\frac{7 \\cdot 6 \\cdot 5 \\cdot 4!}{3 \\cdot 2 \\cdot 4!} = 35$$\n",
        "\n",
        "\n",
        "\n",
        "\n",
        "\n"
      ],
      "metadata": {
        "id": "SQShWQLh1BMT"
      }
    },
    {
      "cell_type": "code",
      "source": [
        "from itertools import combinations_with_replacement\n",
        "c = combinations_with_replacement('NCVFL', 3)\n",
        "\n",
        "for i in c:\n",
        "    print(*i)\n",
        "\n",
        "m = 5\n",
        "n = 3\n",
        "print(f\"Los casos que se obtienen son {int(factorial(m+n-1)/factorial(n)/factorial(m-1))}\")"
      ],
      "metadata": {
        "id": "fCzmXei93h_W"
      },
      "execution_count": null,
      "outputs": []
    },
    {
      "cell_type": "markdown",
      "source": [
        "### Ejemplo 3. Helado con repetición: 3 sabores, 5 bolas\n",
        "* En una heladería pedimos un helado de 5 bolas entre los 3 sabores diferentes que tienen.\n",
        "* SI se pueden repetir los sabores en nuestro helado.\n",
        "* Son 3 sabores:\n",
        " - N Nata\n",
        " - C Chocolate\n",
        " - V Vainilla\n",
        "* Al poderse repetir el sabor, podríamos elegir NNCCC, así tendríamos dos bolas de Nata y tres de Chocolate. En ese caso, es lo mimso que CNCNC o que CCNNC, todas las permutaciones constituyen la misma combinación, el orden no importa.\n",
        "\n",
        "* ¿Importa el orden en el que elijamos las bolas? $\\longrightarrow \\quad $ No\n",
        "* Número de elementos diferentes disponibles $\\longrightarrow \\quad m=3$\n",
        "* Número de elementos a colocar en cada grupo: $\\longrightarrow \\quad n=5$\n",
        "* ¿Se pueden repetir? $\\longrightarrow \\quad $ Si\n",
        "* Estamos en un caso de Combinaciones con repetición de 3 elementos tomados de 5 en 5.\n",
        "\n",
        "$$ CR^5_3 = CR_{3,5} = \\binom{3+5-1}{5} =\\frac{(3+5-1)!}{5!(3-1)!} = \\frac{7!}{5! \\cdot 2!} = \\frac{7 \\cdot 6 \\cdot 5!}{5! \\cdot 2} = 21$$"
      ],
      "metadata": {
        "id": "9XCRrOYvemy_"
      }
    },
    {
      "cell_type": "code",
      "source": [
        "from itertools import combinations_with_replacement\n",
        "c = combinations_with_replacement('NCV', 5)\n",
        "\n",
        "for i in c:\n",
        "    print(*i)\n",
        "\n",
        "m = 3\n",
        "n = 5\n",
        "print(f\"Los casos que se obtienen son {int(factorial(m+n-1)/factorial(n)/factorial(m-1))}\")"
      ],
      "metadata": {
        "id": "22JbgYwMU5jj"
      },
      "execution_count": null,
      "outputs": []
    },
    {
      "cell_type": "markdown",
      "source": [
        "## Ejemplo 4\n",
        "Dados los 15 primeros caracteres del alfabeto (ABCDEFGHIJKLMNO), deseamos saber cuantas contraseñas de 5 letras sin repetición se pueden construir.\n",
        "Muestre todos los casos posibles."
      ],
      "metadata": {
        "id": "5PjAyAdAqLgw"
      }
    },
    {
      "cell_type": "code",
      "source": [
        "from itertools import combinations\n",
        "from math import factorial\n",
        "\n",
        "palabra = 'ABCDEFGHIJKLMNO'\n",
        "m = len(palabra)\n",
        "n = 5\n",
        "c = combinations(palabra, n)\n",
        "\n",
        "for i in c:\n",
        "    print(*i)\n",
        "\n",
        "print(f\"Las Combinaciones de {m} elementos tomados de {n} en {n} son: {int(factorial(m)/factorial(n)/factorial(m-n))}\")"
      ],
      "metadata": {
        "id": "zxPq3PFvqHAv"
      },
      "execution_count": null,
      "outputs": []
    }
  ]
}