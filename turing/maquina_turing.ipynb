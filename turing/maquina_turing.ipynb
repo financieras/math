{
  "nbformat": 4,
  "nbformat_minor": 0,
  "metadata": {
    "colab": {
      "provenance": [],
      "authorship_tag": "ABX9TyOKkQKk5Nll7BQA9LBLLlyh",
      "include_colab_link": true
    },
    "kernelspec": {
      "name": "python3",
      "display_name": "Python 3"
    },
    "language_info": {
      "name": "python"
    }
  },
  "cells": [
    {
      "cell_type": "markdown",
      "metadata": {
        "id": "view-in-github",
        "colab_type": "text"
      },
      "source": [
        "<a href=\"https://colab.research.google.com/github/financieras/math/blob/main/turing/maquina_turing.ipynb\" target=\"_parent\"><img src=\"https://colab.research.google.com/assets/colab-badge.svg\" alt=\"Open In Colab\"/></a>"
      ]
    },
    {
      "cell_type": "markdown",
      "source": [
        "# Máquina de Turing"
      ],
      "metadata": {
        "id": "a7JW-Op5mkQc"
      }
    },
    {
      "cell_type": "markdown",
      "source": [
        "## Sumar 1 en binario con Python"
      ],
      "metadata": {
        "id": "kk2x0deImsbr"
      }
    },
    {
      "cell_type": "code",
      "source": [
        "# Definimos la cinta con el número binario de entrada.\n",
        "cinta = ['1', '1', '1']  # Puedes cambiar esto por cualquier número binario\n",
        "cinta.append(' ')  # Añadimos un espacio al final para indicar el final del número\n",
        "\n",
        "# Definimos la posición inicial del cabezal y el estado inicial.\n",
        "posicion = len(cinta) - 2  # Nos colocamos en la última posición del número binario (antes del espacio)\n",
        "estado = 'q0'\n",
        "\n",
        "# Ejecutamos la máquina de Turing.\n",
        "while estado != 'q2':\n",
        "    if estado == 'q0':\n",
        "        if cinta[posicion] == '0':\n",
        "            cinta[posicion] = '1'\n",
        "            estado = 'q2'\n",
        "        elif cinta[posicion] == '1':\n",
        "            cinta[posicion] = '0'\n",
        "            posicion -= 1\n",
        "            if posicion < 0:\n",
        "                cinta.insert(0, ' ')\n",
        "                posicion = 0\n",
        "        elif cinta[posicion] == ' ':\n",
        "            cinta[posicion] = '1'\n",
        "            estado = 'q2'\n",
        "\n",
        "# Convertimos la cinta en una cadena para la salida, removiendo el espacio extra.\n",
        "resultado = ''.join(cinta).strip()\n",
        "\n",
        "print(resultado)  # Salida esperada para ['1', '1', '1']: 1000\n"
      ],
      "metadata": {
        "colab": {
          "base_uri": "https://localhost:8080/"
        },
        "id": "Li2wVjdr2s01",
        "outputId": "9b394d52-9793-4f55-f7f2-ceeea5d9d882"
      },
      "execution_count": 2,
      "outputs": [
        {
          "output_type": "stream",
          "name": "stdout",
          "text": [
            "1000\n"
          ]
        }
      ]
    },
    {
      "cell_type": "markdown",
      "source": [
        "## Turing Machine Simulator\n",
        "[Turing machine simulator](https://morphett.info/turing/turing.html)\n",
        "\n",
        "## Sumar 1 en la cienta\n",
        "\n",
        "````\n",
        "; Estado inicial: moverse al final del número binario\n",
        "0 0 0 r 0\n",
        "0 1 1 r 0\n",
        "0 _ _ l 1  ; Encuentra el final y retrocede un paso\n",
        "\n",
        "; Estado 1: manejar los acarreos\n",
        "1 0 1 * accept  ; Si encuentra un '0', lo convierte en '1' y acepta (sin acarreo)\n",
        "1 1 0 l 1  ; Si encuentra un '1', lo convierte en '0' y sigue a la izquierda (acarreo)\n",
        "1 _ _ l 2  ; Si llega al inicio, se mueve al estado 2 para manejar el caso especial\n",
        "\n",
        "; Estado 2: Añadir un '1' al principio para el caso especial\n",
        "2 0 0 l 2\n",
        "2 1 1 l 2\n",
        "2 _ 1 r 3\n",
        "\n",
        "; Estado 3: Moverse al final para aceptar\n",
        "3 0 0 r 3\n",
        "3 1 1 r 3\n",
        "3 _ _ r accept\n",
        "\n",
        "; Estado de aceptación\n",
        "accept * * r halt-accept\n",
        "````\n"
      ],
      "metadata": {
        "id": "pFj92h8fm2S5"
      }
    }
  ]
}