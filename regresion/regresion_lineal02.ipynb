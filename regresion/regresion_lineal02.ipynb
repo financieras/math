{
  "nbformat": 4,
  "nbformat_minor": 0,
  "metadata": {
    "colab": {
      "provenance": [],
      "authorship_tag": "ABX9TyNeMYyuG3stipN4Hw8nLp9a",
      "include_colab_link": true
    },
    "kernelspec": {
      "name": "python3",
      "display_name": "Python 3"
    },
    "language_info": {
      "name": "python"
    }
  },
  "cells": [
    {
      "cell_type": "markdown",
      "metadata": {
        "id": "view-in-github",
        "colab_type": "text"
      },
      "source": [
        "<a href=\"https://colab.research.google.com/github/financieras/math/blob/main/regresion/regresion_lineal02.ipynb\" target=\"_parent\"><img src=\"https://colab.research.google.com/assets/colab-badge.svg\" alt=\"Open In Colab\"/></a>"
      ]
    },
    {
      "cell_type": "markdown",
      "source": [
        "# Regresión lineal por descenso del gradiente\n",
        "Se puede llegar a estimar la recta que mejor se ajunta a una nube de puntos por varios métodos:\n",
        "    1. Método de los mínimos cuadrados\n",
        "    2. Método del descenso del gradiente\n",
        "\n",
        "En esta ocasión realizaremos el segundo método que es un método más general para cualquier tipo de función de costes, sea o no convexa.\n",
        "\n",
        "Para funciones no convexas tendremos que usar el método de optimización del descenso del gradiente.\n",
        "\n",
        "* Vídeos del canal DotCSV:\n",
        "1. [Regresión Lineal y Mínimos Cuadrados Ordinarios](https://youtu.be/k964_uNn3l0?si=CrX_Ut2BX80crwMR)\n",
        "2. [¿Qué es el Descenso del Gradiente?](https://youtu.be/A6FiCDoz8_4?si=tYy-0WOvgQMLoQeA)\n",
        "3. [Descenso del Gradiente (Gradient Descent) | Programando IA](https://youtu.be/-_A_AAxqzCg?si=F_0h1LNfCkd1o6FX)"
      ],
      "metadata": {
        "id": "WN4ok2aAKYxc"
      }
    },
    {
      "cell_type": "code",
      "source": [
        "import numpy as np"
      ],
      "metadata": {
        "id": "oAZ-LCUaKmnL"
      },
      "execution_count": 1,
      "outputs": []
    }
  ]
}