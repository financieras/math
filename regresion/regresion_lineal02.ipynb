{
  "nbformat": 4,
  "nbformat_minor": 0,
  "metadata": {
    "colab": {
      "provenance": [],
      "authorship_tag": "ABX9TyMvMKMYfXx+LsMwkAyU7yO2",
      "include_colab_link": true
    },
    "kernelspec": {
      "name": "python3",
      "display_name": "Python 3"
    },
    "language_info": {
      "name": "python"
    }
  },
  "cells": [
    {
      "cell_type": "markdown",
      "metadata": {
        "id": "view-in-github",
        "colab_type": "text"
      },
      "source": [
        "<a href=\"https://colab.research.google.com/github/financieras/math/blob/main/regresion/regresion_lineal02.ipynb\" target=\"_parent\"><img src=\"https://colab.research.google.com/assets/colab-badge.svg\" alt=\"Open In Colab\"/></a>"
      ]
    },
    {
      "cell_type": "markdown",
      "source": [
        "# Regresión lineal por descenso del gradiente\n",
        "Se puede llegar a estimar la recta que mejor se ajunta a una nube de puntos por varios métodos:\n",
        "    1. Método de los mínimos cuadrados\n",
        "    2. Método del descenso del gradiente\n",
        "\n",
        "En esta ocasión realizaremos el segundo método que es un método más general para cualquier tipo de función de costes, sea o no convexa.\n",
        "\n",
        "Para funciones no convexas tendremos que usar el método de optimización del descenso del gradiente.\n",
        "\n",
        "* Vídeos del canal DotCSV:\n",
        "1. [Regresión Lineal y Mínimos Cuadrados Ordinarios](https://youtu.be/k964_uNn3l0?si=CrX_Ut2BX80crwMR)\n",
        "2. [IA NOTEBOOK #1 | Regresión Lineal y Mínimos Cuadrados Ordinarios | Programando IA](https://youtu.be/w2RJ1D6kz-o?si=3F_02_vXuec-PwWD)\n",
        "2. [¿Qué es el Descenso del Gradiente?](https://youtu.be/A6FiCDoz8_4?si=tYy-0WOvgQMLoQeA)\n",
        "3. [Descenso del Gradiente (Gradient Descent) | Programando IA](https://youtu.be/-_A_AAxqzCg?si=F_0h1LNfCkd1o6FX)"
      ],
      "metadata": {
        "id": "WN4ok2aAKYxc"
      }
    },
    {
      "cell_type": "code",
      "source": [
        "# obtenemos el archivo data.csv que queda en local para poder usarlo desde este notebook\n",
        "!wget https://raw.githubusercontent.com/financieras/math/main/regresion/ft-linear-regression/data/data.csv\n",
        "# He modificado la URL original para usar la versión \"raw\" del archivo, que es necesaria para la descarga directa.\n",
        "# url original:      https://github.com/financieras/math/blob/main/regresion/ft-linear-regression/data/data.csv\n",
        "\n",
        "!ls\n",
        "!head -n 5 data.csv"
      ],
      "metadata": {
        "colab": {
          "base_uri": "https://localhost:8080/"
        },
        "id": "aj9DCjJxjJqi",
        "outputId": "6f711882-b511-4ffc-ff09-d34c844806d7"
      },
      "execution_count": 1,
      "outputs": [
        {
          "output_type": "stream",
          "name": "stdout",
          "text": [
            "--2024-10-30 17:50:32--  https://raw.githubusercontent.com/financieras/math/main/regresion/ft-linear-regression/data/data.csv\n",
            "Resolving raw.githubusercontent.com (raw.githubusercontent.com)... 185.199.109.133, 185.199.108.133, 185.199.111.133, ...\n",
            "Connecting to raw.githubusercontent.com (raw.githubusercontent.com)|185.199.109.133|:443... connected.\n",
            "HTTP request sent, awaiting response... 200 OK\n",
            "Length: 281 [text/plain]\n",
            "Saving to: ‘data.csv’\n",
            "\n",
            "data.csv            100%[===================>]     281  --.-KB/s    in 0s      \n",
            "\n",
            "2024-10-30 17:50:33 (9.77 MB/s) - ‘data.csv’ saved [281/281]\n",
            "\n",
            "data.csv  sample_data\n",
            "km,price\n",
            "240000,3650\n",
            "139800,3800\n",
            "150500,4400\n",
            "185530,4450\n"
          ]
        }
      ]
    },
    {
      "cell_type": "code",
      "source": [
        "import numpy as np\n",
        "import pandas as pd\n",
        "import matplotlib.pyplot as plt\n",
        "\n",
        "# Leer el archivo CSV\n",
        "df = pd.read_csv('data.csv')    # df representa el DataFrame\n",
        "\n",
        "# Crear el array X (kilómetros) como vector unidimensional\n",
        "X = df['km'].values\n",
        "\n",
        "# Crear el array Y (precios)\n",
        "Y = df['price'].values\n",
        "\n",
        "# Verificar la forma de los arrays\n",
        "print(\"Forma de X:\", X.shape)\n",
        "print(\"Forma de Y:\", Y.shape)\n",
        "\n",
        "# Mostrar los primeros elementos de cada array\n",
        "print(\"\\nPrimeros elementos de X:\")\n",
        "print(X[:5])\n",
        "print(\"\\nPrimeros elementos de Y:\")\n",
        "print(Y[:5])"
      ],
      "metadata": {
        "colab": {
          "base_uri": "https://localhost:8080/"
        },
        "id": "oAZ-LCUaKmnL",
        "outputId": "e3a10eb6-0f79-4b71-ac3a-4bc003972af7"
      },
      "execution_count": 4,
      "outputs": [
        {
          "output_type": "stream",
          "name": "stdout",
          "text": [
            "Forma de X: (24,)\n",
            "Forma de Y: (24,)\n",
            "\n",
            "Primeros elementos de X:\n",
            "[240000 139800 150500 185530 176000]\n",
            "\n",
            "Primeros elementos de Y:\n",
            "[3650 3800 4400 4450 5250]\n"
          ]
        }
      ]
    },
    {
      "cell_type": "code",
      "source": [
        "type(X)     # tanto el vector X como el Y son ndarrays"
      ],
      "metadata": {
        "colab": {
          "base_uri": "https://localhost:8080/"
        },
        "id": "_c2G5AJRpZ7z",
        "outputId": "28fb68b9-60c7-4779-fa55-2d8f98222f0d"
      },
      "execution_count": 7,
      "outputs": [
        {
          "output_type": "execute_result",
          "data": {
            "text/plain": [
              "numpy.ndarray"
            ]
          },
          "metadata": {},
          "execution_count": 7
        }
      ]
    },
    {
      "cell_type": "code",
      "source": [
        "plt.scatter(X, Y)"
      ],
      "metadata": {
        "colab": {
          "base_uri": "https://localhost:8080/",
          "height": 448
        },
        "id": "sxqJBBHyqLBx",
        "outputId": "16bcebb2-6902-45ad-bd0e-29f362f9be9a"
      },
      "execution_count": 9,
      "outputs": [
        {
          "output_type": "execute_result",
          "data": {
            "text/plain": [
              "<matplotlib.collections.PathCollection at 0x7c2b10906da0>"
            ]
          },
          "metadata": {},
          "execution_count": 9
        },
        {
          "output_type": "display_data",
          "data": {
            "text/plain": [
              "<Figure size 640x480 with 1 Axes>"
            ],
            "image/png": "[encoded data removed]"
          },
          "metadata": {}
        }
      ]
    }
  ]
}