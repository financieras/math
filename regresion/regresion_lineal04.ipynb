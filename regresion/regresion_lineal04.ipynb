{
  "nbformat": 4,
  "nbformat_minor": 0,
  "metadata": {
    "colab": {
      "provenance": [],
      "authorship_tag": "ABX9TyNlPVP7C7f2/QSsWcN7EPQ8",
      "include_colab_link": true
    },
    "kernelspec": {
      "name": "python3",
      "display_name": "Python 3"
    },
    "language_info": {
      "name": "python"
    }
  },
  "cells": [
    {
      "cell_type": "markdown",
      "metadata": {
        "id": "view-in-github",
        "colab_type": "text"
      },
      "source": [
        "<a href=\"https://colab.research.google.com/github/financieras/math/blob/main/regresion/regresion_lineal04.ipynb\" target=\"_parent\"><img src=\"https://colab.research.google.com/assets/colab-badge.svg\" alt=\"Open In Colab\"/></a>"
      ]
    },
    {
      "cell_type": "markdown",
      "source": [
        "# Regresión lineal por descenso del gradiente método no matricial.\n",
        "## Un pequeño ejemplo **NORMALIZANDO**"
      ],
      "metadata": {
        "id": "v3R9PLnaaeHO"
      }
    },
    {
      "cell_type": "code",
      "source": [
        "import numpy as np\n",
        "import matplotlib.pyplot as plt\n",
        "\n",
        "# Datos de ejemplo\n",
        "X = np.array([1, 2, 3, 4, 5])\n",
        "Y = np.array([7, 8, 12, 13, 16])\n",
        "\n",
        "# Normalización de X e Y\n",
        "X_mean, X_std = np.mean(X), np.std(X)\n",
        "Y_mean, Y_std = np.mean(Y), np.std(Y)\n",
        "\n",
        "X_norm = (X - X_mean) / X_std\n",
        "Y_norm = (Y - Y_mean) / Y_std\n",
        "\n",
        "# Parámetros de la regresión\n",
        "theta1_norm = 0  # Pendiente inicial normalizada\n",
        "theta0_norm = 0  # Intercepto inicial normalizado\n",
        "\n",
        "# Configuración del algoritmo\n",
        "learning_rate = 0.01\n",
        "num_iterations = 2_000\n",
        "\n",
        "# Implementación del descenso del gradiente con datos normalizados\n",
        "for _ in range(num_iterations):\n",
        "    # Calcular las predicciones actuales\n",
        "    Y_pred_norm = theta1_norm * X_norm + theta0_norm\n",
        "\n",
        "    # Calcular los gradientes\n",
        "    D_theta1_norm = (1/len(X_norm)) * np.sum(X_norm * (Y_pred_norm - Y_norm))\n",
        "    D_theta0_norm = (1/len(X_norm)) * np.sum(Y_pred_norm - Y_norm)\n",
        "\n",
        "    # Actualizar los parámetros\n",
        "    theta1_norm -= learning_rate * D_theta1_norm\n",
        "    theta0_norm -= learning_rate * D_theta0_norm\n",
        "\n",
        "# Desnormalización de los parámetros\n",
        "theta1 = theta1_norm * (Y_std / X_std)\n",
        "theta0 = Y_mean - theta1 * X_mean + theta0_norm * Y_std\n",
        "\n",
        "print(f\"Intercepto (theta0): {theta0:.4f}\")\n",
        "print(f\"Pendiente (theta1): {theta1:.4f}\")"
      ],
      "metadata": {
        "colab": {
          "base_uri": "https://localhost:8080/"
        },
        "id": "gwLv7wY8445P",
        "outputId": "d248011f-eaa2-4804-ef88-c62380c4f257"
      },
      "execution_count": null,
      "outputs": [
        {
          "output_type": "stream",
          "name": "stdout",
          "text": [
            "Intercepto (theta0): 4.3000\n",
            "Pendiente (theta1): 2.3000\n"
          ]
        }
      ]
    },
    {
      "cell_type": "code",
      "source": [
        "# Implementación del método de mínimos cuadrados\n",
        "X_mincuad = np.column_stack((np.ones(len(X)), X))\n",
        "theta_mincuad = np.linalg.inv(X_mincuad.T.dot(X_mincuad)).dot(X_mincuad.T).dot(Y)\n",
        "\n",
        "print(\"Parámetros por mínimos cuadrados:\", theta_mincuad)"
      ],
      "metadata": {
        "colab": {
          "base_uri": "https://localhost:8080/"
        },
        "id": "h07cV8Gr6-s7",
        "outputId": "8e1b35d7-0570-4ed7-df07-9898b5c79f8d"
      },
      "execution_count": null,
      "outputs": [
        {
          "output_type": "stream",
          "name": "stdout",
          "text": [
            "Parámetros por mínimos cuadrados: [4.3 2.3]\n"
          ]
        }
      ]
    },
    {
      "cell_type": "code",
      "source": [
        "plt.scatter(X, Y)\n",
        "plt.plot(X, theta0 + theta1 * X, color='red', label='Regresión')\n",
        "plt.show()"
      ],
      "metadata": {
        "colab": {
          "base_uri": "https://localhost:8080/",
          "height": 430
        },
        "id": "DGKcqRKp5UIL",
        "outputId": "7929c8a9-d8ae-40d4-8b1b-e1231b7288a3"
      },
      "execution_count": null,
      "outputs": [
        {
          "output_type": "display_data",
          "data": {
            "text/plain": [
              "<Figure size 640x480 with 1 Axes>"
            ],
            "image/png": "[encoded data removed]"
          },
          "metadata": {}
        }
      ]
    }
  ]
}