{
  "nbformat": 4,
  "nbformat_minor": 0,
  "metadata": {
    "colab": {
      "provenance": [],
      "authorship_tag": "ABX9TyMYxZ0TZWUzWp/g6FdLqt4t",
      "include_colab_link": true
    },
    "kernelspec": {
      "name": "python3",
      "display_name": "Python 3"
    },
    "language_info": {
      "name": "python"
    }
  },
  "cells": [
    {
      "cell_type": "markdown",
      "metadata": {
        "id": "view-in-github",
        "colab_type": "text"
      },
      "source": [
        "<a href=\"https://colab.research.google.com/github/financieras/math/blob/main/regresion/ft_linear_regression_es.ipynb\" target=\"_parent\"><img src=\"https://colab.research.google.com/assets/colab-badge.svg\" alt=\"Open In Colab\"/></a>"
      ]
    },
    {
      "cell_type": "markdown",
      "source": [
        "# ft_linear_regression\n",
        "Una introducción al aprendizaje automático\n",
        "Resumen: En este proyecto, implementarás tu primer algoritmo de aprendizaje automático.\n",
        "Versión: 4\n",
        "\n",
        "## Contenidos\n",
        "I Prefacio\n",
        "II Introducción\n",
        "III Objetivo\n",
        "IV Instrucciones generales\n",
        "V Parte obligatoria\n",
        "VI Parte bonus\n",
        "VII Entrega y evaluación entre pares\n",
        "\n",
        "# Capítulo I\n",
        "## Prefacio\n",
        "Lo que considero la mejor definición para el aprendizaje automático:\n",
        "\"Se dice que un programa de computadora aprende de la experiencia E con respecto a alguna clase de tareas T y medida de rendimiento P, si su rendimiento en las tareas de T, medido por P, mejora con la experiencia E.\"\n",
        "Tom M. Mitchell\n",
        "\n",
        "# Capítulo II\n",
        "## Introducción\n",
        "El aprendizaje automático es un campo creciente de la informática que puede parecer un poco complicado y reservado solo para matemáticos. Es posible que hayas oído hablar de redes neuronales o agrupamiento k-means y no entiendas cómo funcionan o cómo codificar este tipo de algoritmos... Pero no te preocupes, en realidad vamos a empezar con un algoritmo de aprendizaje automático simple y básico.\n",
        "\n",
        "# Capítulo III\n",
        "## Objetivo\n",
        "El objetivo de este proyecto es introducirte en el concepto básico del aprendizaje automático. Para este proyecto, tendrás que crear un programa que prediga el precio de un automóvil utilizando una función lineal entrenada con un algoritmo de descenso de gradiente.\n",
        "Trabajaremos en un ejemplo preciso para el proyecto, pero una vez que hayas terminado, podrás usar el algoritmo con cualquier otro conjunto de datos.\n",
        "\n",
        "# Capítulo IV\n",
        "## Instrucciones generales\n",
        "En este proyecto eres libre de usar el lenguaje que quieras.\n",
        "También eres libre de usar cualquier biblioteca que desees, siempre y cuando no hagan todo el trabajo por ti. Por ejemplo, el uso de numpy.polyfit de Python se considera hacer trampa.\n",
        "Deberías usar un lenguaje que te permita visualizar fácilmente tus datos: será muy útil para la depuración.\n",
        "\n",
        "# Capítulo V\n",
        "## Parte obligatoria\n",
        "Implementarás una regresión lineal simple con una única característica - en este caso, el kilometraje del automóvil.\n",
        "Para hacerlo, necesitas crear dos programas:\n",
        "• El primer programa se utilizará para predecir el precio de un automóvil para un kilometraje dado. Cuando inicies el programa, debería pedirte un kilometraje y luego devolverte el precio estimado para ese kilometraje. El programa utilizará la siguiente hipótesis para predecir el precio:\n",
        "estimatePrice(mileage) = θ₀ + (θ₁ * mileage)\n",
        "Antes de la ejecución del programa de entrenamiento, theta0 y theta1 se establecerán en 0.\n",
        "\n",
        "• El segundo programa se utilizará para entrenar tu modelo. Leerá tu archivo de conjunto de datos y realizará una regresión lineal sobre los datos.\n",
        "Una vez que la regresión lineal se haya completado, guardarás las variables theta0 y theta1 para usarlas en el primer programa.\n",
        "\n",
        "Utilizarás las siguientes fórmulas:\n",
        "tmpθ₀ = learningRate * (1/m) * Σ(estimatePrice(mileage[i]) - price[i])\n",
        "tmpθ₁ = learningRate * (1/m) * Σ(estimatePrice(mileage[i]) - price[i]) * mileage[i]\n",
        "Te dejo adivinar qué es m :)\n",
        "\n",
        "Ten en cuenta que el estimatePrice es el mismo que en nuestro primer programa, pero aquí utiliza tus theta0 y theta1 temporales, calculados por última vez.\n",
        "Además, no olvides actualizar simultáneamente theta0 y theta1.\n",
        "\n",
        "# Capítulo VI\n",
        "## Parte bonus\n",
        "Aquí hay algunos bonus que podrían ser muy útiles:\n",
        "• Graficar los datos en un gráfico para ver su distribución.\n",
        "• Graficar la línea resultante de tu regresión lineal en el mismo gráfico, ¡para ver el resultado de tu arduo trabajo!\n",
        "• Un programa que calcule la precisión de tu algoritmo.\n",
        "\n",
        "La parte bonus solo se evaluará si la parte obligatoria es PERFECTA. Perfecto significa que la parte obligatoria se ha realizado íntegramente y funciona sin fallos. Si no has superado TODOS los requisitos obligatorios, tu parte bonus no será evaluada en absoluto.\n",
        "\n",
        "# Capítulo VII\n",
        "## Entrega y evaluación entre pares\n",
        "Entrega tu trabajo en tu repositorio Git como de costumbre. Solo el trabajo dentro de tu repositorio será evaluado durante la defensa. No dudes en verificar dos veces los nombres de tus carpetas y archivos para asegurarte de que sean correctos.\n",
        "\n",
        "Aquí están los puntos que tu evaluador deberá verificar:\n",
        "• La ausencia de bibliotecas que hagan el trabajo por ti\n",
        "• El uso de la hipótesis especificada\n",
        "• El uso de la función de entrenamiento especificada\n"
      ],
      "metadata": {
        "id": "0dUI5tzQUwJl"
      }
    },
    {
      "cell_type": "markdown",
      "source": [],
      "metadata": {
        "id": "mqwchzRbU5ZX"
      }
    }
  ]
}