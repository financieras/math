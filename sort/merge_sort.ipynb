{
  "nbformat": 4,
  "nbformat_minor": 0,
  "metadata": {
    "colab": {
      "provenance": [],
      "authorship_tag": "ABX9TyP2/U3Ku8/pUTe3zT3b8O8w",
      "include_colab_link": true
    },
    "kernelspec": {
      "name": "python3",
      "display_name": "Python 3"
    },
    "language_info": {
      "name": "python"
    }
  },
  "cells": [
    {
      "cell_type": "markdown",
      "metadata": {
        "id": "view-in-github",
        "colab_type": "text"
      },
      "source": [
        "<a href=\"https://colab.research.google.com/github/financieras/math/blob/main/sort/merge_sort.ipynb\" target=\"_parent\"><img src=\"https://colab.research.google.com/assets/colab-badge.svg\" alt=\"Open In Colab\"/></a>"
      ]
    },
    {
      "cell_type": "markdown",
      "source": [
        "# Merge Sort algorithm\n",
        "* [Merge Sort](https://www.geeksforgeeks.org/merge-sort/)\n",
        "* [Vídeo: Ordenamiento por mezcla](https://youtu.be/ACFZn_xQcz8?si=7IdsOoWQB5KVWFHj)"
      ],
      "metadata": {
        "id": "P8BKfDEhzWY_"
      }
    },
    {
      "cell_type": "code",
      "execution_count": 43,
      "metadata": {
        "id": "WIJnwLwYzU77"
      },
      "outputs": [],
      "source": [
        "def mergeSort(arr):\n",
        "    if len(arr) <= 1:\n",
        "        return arr\n",
        "    middle = len(arr) // 2\n",
        "    left_array = arr[:middle]\n",
        "    right_array = arr[middle:]\n",
        "\n",
        "    sorted_left_array = mergeSort(left_array)\n",
        "    sorted_right_array = mergeSort(right_array)\n",
        "\n",
        "    return Merge(sorted_left_array, sorted_right_array)\n",
        "\n",
        "def Merge(left_arr, right_arr):\n",
        "    arr_resultado = []\n",
        "    while len(left_arr) > 0 and len(right_arr) > 0:\n",
        "        if right_arr[0] < left_arr[0]:\n",
        "            arr_resultado.append(right_arr[0])\n",
        "            right_arr.pop(0)\n",
        "        else:\n",
        "            arr_resultado.append(left_arr[0])\n",
        "            left_arr.pop(0)\n",
        "\n",
        "    while len(left_arr) > 0:\n",
        "        arr_resultado.append(left_arr[0])\n",
        "        left_arr.pop(0)\n",
        "\n",
        "    while len(right_arr) > 0:\n",
        "        arr_resultado.append(right_arr[0])\n",
        "        right_arr.pop(0)\n",
        "\n",
        "    return arr_resultado"
      ]
    },
    {
      "cell_type": "code",
      "source": [
        "arr = [9,8,7,5,4,1,6,3,2]\n",
        "mergeSort(arr)"
      ],
      "metadata": {
        "colab": {
          "base_uri": "https://localhost:8080/"
        },
        "id": "x1Uqq6Vs02wc",
        "outputId": "1f24e139-e2ff-4e0e-b903-60be65971d51"
      },
      "execution_count": 44,
      "outputs": [
        {
          "output_type": "execute_result",
          "data": {
            "text/plain": [
              "[1, 2, 3, 4, 5, 6, 7, 8, 9]"
            ]
          },
          "metadata": {},
          "execution_count": 44
        }
      ]
    },
    {
      "cell_type": "code",
      "source": [
        "from random import sample\n",
        "\n",
        "arr = sample(range(100_000), 100_000)\n",
        "l = mergeSort(arr)"
      ],
      "metadata": {
        "id": "UpgK8PG_6LIm"
      },
      "execution_count": 45,
      "outputs": []
    },
    {
      "cell_type": "markdown",
      "source": [
        "#### Versión condensada  \n",
        "El pop retorna un valor que se usa para el append."
      ],
      "metadata": {
        "id": "EW2X5bkg75xM"
      }
    },
    {
      "cell_type": "code",
      "source": [
        "def mergeSort(arr):\n",
        "    if len(arr) <= 1:\n",
        "        return arr\n",
        "    middle = len(arr) // 2\n",
        "    left_array = arr[:middle]\n",
        "    right_array = arr[middle:]\n",
        "    sorted_left_array = mergeSort(left_array)\n",
        "    sorted_right_array = mergeSort(right_array)\n",
        "    return Merge(sorted_left_array, sorted_right_array)\n",
        "\n",
        "def Merge(left_arr, right_arr):\n",
        "    arr_resultado = []\n",
        "    while len(left_arr) > 0 and len(right_arr) > 0:\n",
        "        if right_arr[0] < left_arr[0]:\n",
        "            arr_resultado.append(right_arr.pop(0))\n",
        "        else:\n",
        "            arr_resultado.append(left_arr.pop(0))\n",
        "    while len(left_arr) > 0:\n",
        "        arr_resultado.append(left_arr.pop(0))\n",
        "    while len(right_arr) > 0:\n",
        "        arr_resultado.append(right_arr.pop(0))\n",
        "    return arr_resultado"
      ],
      "metadata": {
        "id": "KlS7P-Dh73nR"
      },
      "execution_count": 54,
      "outputs": []
    }
  ]
}