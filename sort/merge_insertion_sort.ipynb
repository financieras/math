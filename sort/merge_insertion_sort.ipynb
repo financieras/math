{
  "nbformat": 4,
  "nbformat_minor": 0,
  "metadata": {
    "colab": {
      "provenance": [],
      "authorship_tag": "ABX9TyPEy1PQqxRQ6PqVDEr2J+IG",
      "include_colab_link": true
    },
    "kernelspec": {
      "name": "python3",
      "display_name": "Python 3"
    },
    "language_info": {
      "name": "python"
    }
  },
  "cells": [
    {
      "cell_type": "markdown",
      "metadata": {
        "id": "view-in-github",
        "colab_type": "text"
      },
      "source": [
        "<a href=\"https://colab.research.google.com/github/financieras/math/blob/main/sort/merge_insertion_sort.ipynb\" target=\"_parent\"><img src=\"https://colab.research.google.com/assets/colab-badge.svg\" alt=\"Open In Colab\"/></a>"
      ]
    },
    {
      "cell_type": "code",
      "execution_count": 1,
      "metadata": {
        "colab": {
          "base_uri": "https://localhost:8080/"
        },
        "id": "3qpOlT3Lf_vi",
        "outputId": "0a12b315-57e5-4679-93fa-c8741fe5672d"
      },
      "outputs": [
        {
          "output_type": "stream",
          "name": "stdout",
          "text": [
            "[0, 1, 2, 3, 4, 5, 7]\n"
          ]
        }
      ],
      "source": [
        "#!/usr/bin/env python\n",
        "# -- coding: utf-8 --\n",
        "\n",
        "def insercion (vector):\n",
        "    for i in range(1, len(vector)):\n",
        "        clave = vector[i]\n",
        "        j = i\n",
        "        while (j>0 and vector[j-1] > clave):\n",
        "            vector[j] = vector[j-1]\n",
        "            j = j-1\n",
        "            vector[j] = clave\n",
        "    print(vector)\n",
        "\n",
        "vector = [5, 4, 3, 2 ,1, 0, 7]\n",
        "insercion(vector)"
      ]
    },
    {
      "cell_type": "code",
      "source": [
        "def insercion (vector):\n",
        "    for i in range(1, len(vector)):\n",
        "        clave = vector[i]\n",
        "        j = i\n",
        "        while (j>0 and vector[j-1] > clave):\n",
        "            vector[j] = vector[j-1]\n",
        "            vector[j-1] = clave\n",
        "            j = j-1\n",
        "    print(vector)\n",
        "\n",
        "vector = [5, 4, 3, 2 ,1, 0, 7]\n",
        "insercion(vector)"
      ],
      "metadata": {
        "colab": {
          "base_uri": "https://localhost:8080/"
        },
        "id": "-Ivtg7GBgQNN",
        "outputId": "82830de5-a19c-4452-9ff5-4510ab8a1c0c"
      },
      "execution_count": 2,
      "outputs": [
        {
          "output_type": "stream",
          "name": "stdout",
          "text": [
            "[0, 1, 2, 3, 4, 5, 7]\n"
          ]
        }
      ]
    },
    {
      "cell_type": "code",
      "source": [
        "def merge_sort(arr):\n",
        "    if len(arr) > 1:\n",
        "        mid = len(arr) // 2\n",
        "        left_half = arr[:mid]\n",
        "        right_half = arr[mid:]\n",
        "\n",
        "        merge_sort(left_half)\n",
        "        merge_sort(right_half)\n",
        "\n",
        "        i = j = k = 0\n",
        "\n",
        "        while i < len(left_half) and j < len(right_half):\n",
        "            if left_half[i] < right_half[j]:\n",
        "                arr[k] = left_half[i]\n",
        "                i += 1\n",
        "            else:\n",
        "                arr[k] = right_half[j]\n",
        "                j += 1\n",
        "            k += 1\n",
        "\n",
        "        while i < len(left_half):\n",
        "            arr[k] = left_half[i]\n",
        "            i += 1\n",
        "            k += 1\n",
        "\n",
        "        while j < len(right_half):\n",
        "            arr[k] = right_half[j]\n",
        "            j += 1\n",
        "            k += 1\n",
        "\n",
        "def insertion_sort(arr):\n",
        "    for i in range(1, len(arr)):\n",
        "        key = arr[i]\n",
        "        j = i - 1\n",
        "        while j >= 0 and key < arr[j]:\n",
        "            arr[j + 1] = arr[j]\n",
        "            j -= 1\n",
        "        arr[j + 1] = key\n",
        "\n",
        "def merge_insertion_sort(arr):\n",
        "    if len(arr) < 10:\n",
        "        insertion_sort(arr)\n",
        "    else:\n",
        "        merge_sort(arr)\n",
        "\n",
        "# Ejemplo de uso\n",
        "lista = [64, 25, 12, 22, 11, 1, 36, 98, 42, 9]\n",
        "print(\"Lista antes de ordenar:\", lista)\n",
        "merge_insertion_sort(lista)\n",
        "print(\"Lista después de ordenar:\", lista)\n"
      ],
      "metadata": {
        "colab": {
          "base_uri": "https://localhost:8080/"
        },
        "id": "QZuQbXs8mmIJ",
        "outputId": "0e32ad81-4a40-4f2f-de0f-ce969e1a4f22"
      },
      "execution_count": 3,
      "outputs": [
        {
          "output_type": "stream",
          "name": "stdout",
          "text": [
            "Lista antes de ordenar: [64, 25, 12, 22, 11, 1, 36, 98, 42, 9]\n",
            "Lista después de ordenar: [1, 9, 11, 12, 22, 25, 36, 42, 64, 98]\n"
          ]
        }
      ]
    }
  ]
}