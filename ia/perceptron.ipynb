{
  "nbformat": 4,
  "nbformat_minor": 0,
  "metadata": {
    "colab": {
      "provenance": [],
      "authorship_tag": "ABX9TyNpTyiBXen6inKZlYuJEHrB",
      "include_colab_link": true
    },
    "kernelspec": {
      "name": "python3",
      "display_name": "Python 3"
    },
    "language_info": {
      "name": "python"
    }
  },
  "cells": [
    {
      "cell_type": "markdown",
      "metadata": {
        "id": "view-in-github",
        "colab_type": "text"
      },
      "source": [
        "<a href=\"https://colab.research.google.com/github/financieras/math/blob/main/ia/perceptron.ipynb\" target=\"_parent\"><img src=\"https://colab.research.google.com/assets/colab-badge.svg\" alt=\"Open In Colab\"/></a>"
      ]
    },
    {
      "cell_type": "markdown",
      "source": [
        "# Perceptron"
      ],
      "metadata": {
        "id": "-KII1o2yqNyT"
      }
    },
    {
      "cell_type": "markdown",
      "source": [
        "## Caso 1. Averiguar los pesos de dos exámenes en la nota final\n",
        "[Redes neuronales](https://www.xataka.com/robotica-e-ia/las-redes-neuronales-que-son-y-por-que-estan-volviendo)\n",
        "\n",
        "* Tenemos las notas de dos exámenes n1 y n2. Las notas de cada examen están en el rango [0, 10].\n",
        "* Cada examen tiene un peso w1 y w2 para promediar en la nota final.\n",
        "* Si la nota final es mayor o igual a 5 el alumno aprueba (1) y en caso contrario suspende (0).\n",
        "\n",
        "* Se trata de obtener los pesos w1 y w2 que se usaron para determinar si un gran número de alumnos aprobaron (1) o suspendieron (0).\n"
      ],
      "metadata": {
        "id": "mO_6Iex1qTNz"
      }
    },
    {
      "cell_type": "code",
      "execution_count": null,
      "metadata": {
        "id": "rXEeBYvZqLEu"
      },
      "outputs": [],
      "source": []
    }
  ]
}