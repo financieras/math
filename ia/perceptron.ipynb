{
  "nbformat": 4,
  "nbformat_minor": 0,
  "metadata": {
    "colab": {
      "provenance": [],
      "authorship_tag": "ABX9TyMLsE0MKXJDI6XhdJciCDm7",
      "include_colab_link": true
    },
    "kernelspec": {
      "name": "python3",
      "display_name": "Python 3"
    },
    "language_info": {
      "name": "python"
    }
  },
  "cells": [
    {
      "cell_type": "markdown",
      "metadata": {
        "id": "view-in-github",
        "colab_type": "text"
      },
      "source": [
        "<a href=\"https://colab.research.google.com/github/financieras/math/blob/main/ia/perceptron.ipynb\" target=\"_parent\"><img src=\"https://colab.research.google.com/assets/colab-badge.svg\" alt=\"Open In Colab\"/></a>"
      ]
    },
    {
      "cell_type": "markdown",
      "source": [
        "# Perceptron"
      ],
      "metadata": {
        "id": "-KII1o2yqNyT"
      }
    },
    {
      "cell_type": "markdown",
      "source": [
        "## Caso 1. Averiguar los pesos de dos exámenes en la nota final\n",
        "[Redes neuronales](https://www.xataka.com/robotica-e-ia/las-redes-neuronales-que-son-y-por-que-estan-volviendo)\n",
        "\n",
        "[Pesos y umbrales](https://trucosexcel.blogspot.com/2018/05/pesos-y-umbrales.html)\n",
        "\n",
        "[Puntos linealmente separables](https://trucosexcel.blogspot.com//2018/05/puntos-linealmente-separables.html)\n",
        "\n",
        "* Tenemos las notas de dos exámenes n1 y n2. Las notas de cada examen están en el rango [0, 10].\n",
        "* Cada examen tiene un peso w1 y w2 para promediar en la nota final.\n",
        "* Si la nota final es mayor o igual a 5 el alumno aprueba (1) y en caso contrario suspende (0).\n",
        "\n",
        "* Se trata de obtener los pesos w1 y w2 que se usaron para determinar si un gran número de alumnos aprobaron (1) o suspendieron (0).\n"
      ],
      "metadata": {
        "id": "mO_6Iex1qTNz"
      }
    },
    {
      "cell_type": "markdown",
      "source": [
        "## Descripción\n",
        "* Establezcamos los pesos que luego tendremos que estimar ($\\omega_1$, $\\omega_2$).\n",
        "* Esto se hace para generar datos de parejas de notas de los dos exámenes.\n",
        "* Generaremos un gran número de parejas de notas ($n_1$, $n_2$).\n",
        "* Cada pareja de notas se pondera con los pesos ($\\omega_1$, $\\omega_2$) y esto da lugar a una nota final.\n",
        "* Si la nota final es mayor o igual a 5 el alumno aprueba (1) y en caso contrario el alumno suspende (0).\n",
        "* Por lo tanto, en el modelo tendremos un gran número de notas ($n_1$, $n_2$) y por cada pareja un 1 o un 0, que indicarán si el alumno aprueba o suspende.\n",
        "* Supongamos que son 1000 parejas de notas de entrada y un vector de ceros y unos con mil datos de salida.\n",
        "* Nuestro objetivo es determinar los pesos ($\\omega_1$, $\\omega_2$) que internamente permitieron que esas notas de entrada se convirtieran en ese vector de salida."
      ],
      "metadata": {
        "id": "gizGZsTSNspw"
      }
    },
    {
      "cell_type": "markdown",
      "source": [
        "## Paso 1. Pesos establecidos\n",
        "* Establezcamos los pesos que luego tendremos que estimar ($\\omega_1$, $\\omega_2$).\n",
        "* Siempre se cumple que los pesos se dan en tanto por uno y su suma es 1.\n",
        "* $0 \\leq  \\omega_1 \\leq 1$\n",
        "* $\\omega_1 + \\omega_2 = 1$"
      ],
      "metadata": {
        "id": "MDNpdO4wRTnH"
      }
    },
    {
      "cell_type": "code",
      "source": [
        "w1 = 0.284      # dato que nos inventamos y luego tendremos que estimar\n",
        "w2 = 1 - w1\n",
        "w1, w2"
      ],
      "metadata": {
        "id": "RJP6ifWhQmlP",
        "outputId": "9c6c90b8-3294-4d65-b27e-cb4631a3cfb4",
        "colab": {
          "base_uri": "https://localhost:8080/"
        }
      },
      "execution_count": 1,
      "outputs": [
        {
          "output_type": "execute_result",
          "data": {
            "text/plain": [
              "(0.284, 0.716)"
            ]
          },
          "metadata": {},
          "execution_count": 1
        }
      ]
    },
    {
      "cell_type": "markdown",
      "source": [
        "## Paso 2. Matriz con las parejas de notas y calificación final\n",
        "* Generación de 1000 parejas de notas ($n_1$, $n_2$) en forma de matriz.\n",
        "* Las notas varían entre 0 y 10 de forma aleatoria.\n",
        "* La nota 1 ($n1$) se guarda en el index 1 de la matriz\n",
        "* La nota 2 ($n2$) se guarda en el index 2 de la matriz\n",
        "* En el index 0 de la matriz se calcula la Calificación Final.\n",
        "* La calificación final se obtiene aplicando, a cada pareja de notas, los pesos ($\\omega_1$, $\\omega_2$) para obtener la Nota Final.\n",
        "* Convertimos esa Nota Final que varía entre 0 y 10 en un booleano que se será la Calificación Final, considerando que:\n",
        "    - Si la nota final es mayor o igual a 5 el alumno aprueba: booleano 1\n",
        "    - En caso contrario el alumno suspende: booleano 0"
      ],
      "metadata": {
        "id": "U1Y_TzixRwKp"
      }
    },
    {
      "cell_type": "code",
      "source": [
        "import random\n",
        "random.seed()\n",
        "\n",
        "n = 20            # número de parejas de notas\n",
        "nota_de_corte = 5\n",
        "notas = []          # matriz con las parejas de notas y la calificación final\n",
        "\n",
        "for i in range(n):\n",
        "    n1 = random.random() * 10\n",
        "    n2 = random.random() * 10\n",
        "    nota_binaria = int(n1 * w1 + n2 * w2 >= nota_de_corte)\n",
        "    notas.append([nota_binaria, n1, n2])\n",
        "\n",
        "notas"
      ],
      "metadata": {
        "id": "gheICUobSDDX",
        "outputId": "e455c869-4db0-42b4-b91d-b080d05922c8",
        "colab": {
          "base_uri": "https://localhost:8080/"
        }
      },
      "execution_count": 8,
      "outputs": [
        {
          "output_type": "execute_result",
          "data": {
            "text/plain": [
              "[[1, 9.295178280233094, 5.368097202116414],\n",
              " [0, 4.9314829494415315, 4.615946828272021],\n",
              " [0, 7.2160276004898485, 0.5774392862387046],\n",
              " [1, 3.1970080330961945, 5.793398226350135],\n",
              " [1, 0.8394558338277658, 8.304691251675978],\n",
              " [0, 6.88640225345993, 0.3823430610941181],\n",
              " [1, 6.716570954426619, 5.360517992746331],\n",
              " [1, 6.932781459070673, 8.760696422431977],\n",
              " [0, 2.224322086073599, 3.0264484563621705],\n",
              " [1, 1.2506738505227943, 8.409822175395119],\n",
              " [1, 2.9425318893464922, 6.760422873342246],\n",
              " [1, 4.016979677192643, 5.888098251832908],\n",
              " [1, 8.931285599494064, 4.231482914983461],\n",
              " [0, 7.669309011234607, 2.6912617978676314],\n",
              " [1, 8.361144821472696, 3.8900428644638527],\n",
              " [0, 8.832494385228314, 3.0601378837693893],\n",
              " [0, 0.9652441575147308, 1.52615668344256],\n",
              " [1, 5.857150337438425, 5.071564196445051],\n",
              " [1, 9.64653243562114, 4.0688041937523565],\n",
              " [0, 1.526337413353096, 4.799092556852167]]"
            ]
          },
          "metadata": {},
          "execution_count": 8
        }
      ]
    }
  ]
}