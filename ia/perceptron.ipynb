{
  "nbformat": 4,
  "nbformat_minor": 0,
  "metadata": {
    "colab": {
      "provenance": [],
      "authorship_tag": "ABX9TyPQ1sz2v9GGPq2Etilnpeee",
      "include_colab_link": true
    },
    "kernelspec": {
      "name": "python3",
      "display_name": "Python 3"
    },
    "language_info": {
      "name": "python"
    }
  },
  "cells": [
    {
      "cell_type": "markdown",
      "metadata": {
        "id": "view-in-github",
        "colab_type": "text"
      },
      "source": [
        "<a href=\"https://colab.research.google.com/github/financieras/math/blob/main/ia/perceptron.ipynb\" target=\"_parent\"><img src=\"https://colab.research.google.com/assets/colab-badge.svg\" alt=\"Open In Colab\"/></a>"
      ]
    },
    {
      "cell_type": "markdown",
      "source": [
        "# Perceptron"
      ],
      "metadata": {
        "id": "-KII1o2yqNyT"
      }
    },
    {
      "cell_type": "markdown",
      "source": [
        "## Caso 1. Averiguar los pesos de dos exámenes en la nota final\n",
        "[Redes neuronales](https://www.xataka.com/robotica-e-ia/las-redes-neuronales-que-son-y-por-que-estan-volviendo)\n",
        "\n",
        "[Pesos y umbrales](https://trucosexcel.blogspot.com/2018/05/pesos-y-umbrales.html)\n",
        "\n",
        "[Puntos linealmente separables](https://trucosexcel.blogspot.com//2018/05/puntos-linealmente-separables.html)\n",
        "\n",
        "* Tenemos las notas de dos exámenes n1 y n2. Las notas de cada examen están en el rango [0, 10].\n",
        "* Cada examen tiene un peso w1 y w2 para promediar en la nota final.\n",
        "* Si la nota final es mayor o igual a 5 el alumno aprueba (1) y en caso contrario suspende (0).\n",
        "\n",
        "* Se trata de obtener los pesos w1 y w2 que se usaron para determinar si un gran número de alumnos aprobaron (1) o suspendieron (0).\n"
      ],
      "metadata": {
        "id": "mO_6Iex1qTNz"
      }
    },
    {
      "cell_type": "markdown",
      "source": [
        "## Descripción\n",
        "* Establezcamos los pesos que luego tendremos que estimar ($\\omega_1$, $\\omega_2$).\n",
        "* Esto se hace para generar datos de parejas de notas de los dos exámenes.\n",
        "* Generaremos un gran número de parejas de notas ($n_1$, $n_2$).\n",
        "* Cada pareja de notas se pondera con los pesos ($\\omega_1$, $\\omega_2$) y esto da lugar a una nota final.\n",
        "* Si la nota final es mayor o igual a 5 el alumno aprueba (1) y en caso contrario el alumno suspende (0).\n",
        "* Por lo tanto, en el modelo tendremos un gran número de notas ($n_1$, $n_2$) y por cada pareja un 1 o un 0, que indicarán si el alumno aprueba o suspende.\n",
        "* Supongamos que son 1000 parejas de notas de entrada y un vector de ceros y unos con mil datos de salida.\n",
        "* Nuestro objetivo es determinar los pesos ($\\omega_1$, $\\omega_2$) que internamente permitieron que esas notas de entrada se convirtieran en ese vector de salida."
      ],
      "metadata": {
        "id": "gizGZsTSNspw"
      }
    },
    {
      "cell_type": "markdown",
      "source": [
        "## Paso 1. Pesos establecidos\n",
        "* Establezcamos los pesos que luego tendremos que estimar ($\\omega_1$, $\\omega_2$).\n",
        "* Siempre se cumple que los pesos se dan en tanto por uno y su suma es 1.\n",
        "* $0 \\leq  \\omega_1 \\leq 1$\n",
        "* $\\omega_1 + \\omega_2 = 1$"
      ],
      "metadata": {
        "id": "MDNpdO4wRTnH"
      }
    },
    {
      "cell_type": "code",
      "source": [
        "w1_real = 0.284      # dato que nos inventamos y luego tendremos que estimar\n",
        "w2_real = 1 - w1_real\n",
        "w1_real, w2_real"
      ],
      "metadata": {
        "id": "RJP6ifWhQmlP",
        "outputId": "0e202d84-663c-4b28-ac29-db2bc3339310",
        "colab": {
          "base_uri": "https://localhost:8080/"
        }
      },
      "execution_count": 4,
      "outputs": [
        {
          "output_type": "execute_result",
          "data": {
            "text/plain": [
              "(0.284, 0.716)"
            ]
          },
          "metadata": {},
          "execution_count": 4
        }
      ]
    },
    {
      "cell_type": "markdown",
      "source": [
        "## Paso 2. Matriz con las parejas de notas y calificación final\n",
        "* Generación de 1000 parejas de notas ($n_1$, $n_2$) en forma de matriz.\n",
        "* Las notas varían entre 0 y 10 de forma aleatoria.\n",
        "    1. La nota 1 ($n1$) se guarda en el index 1 de la matriz\n",
        "    2. La nota 2 ($n2$) se guarda en el index 2 de la matriz\n",
        "    3. En el index 0 de la matriz se calcula la Calificación Final.\n",
        "* La calificación final se obtiene aplicando, a cada pareja de notas, los pesos ($\\omega_1$, $\\omega_2$) para obtener la Nota Final.\n",
        "* Convertimos esa Nota Final que varía entre 0 y 10 en un booleano que será la Calificación Final, considerando que:\n",
        "    - Si la nota final es mayor o igual a la nota de aprobado el alumno aprueba: booleano 1\n",
        "    - En caso contrario el alumno suspende: booleano 0\n",
        "* La nota de aprobado se establece en 5."
      ],
      "metadata": {
        "id": "U1Y_TzixRwKp"
      }
    },
    {
      "cell_type": "code",
      "source": [
        "import random\n",
        "random.seed()\n",
        "\n",
        "n = 20              # número de parejas de notas\n",
        "nota_de_aprobado = 5\n",
        "notas = []          # matriz con las parejas de notas y la calificación final\n",
        "\n",
        "for i in range(n):\n",
        "    n1 = random.random() * 10\n",
        "    n2 = random.random() * 10\n",
        "    nota_binaria = int(n1 * w1_real + n2 * w2_real >= nota_de_aprobado)\n",
        "    notas.append([nota_binaria, n1, n2])\n",
        "\n",
        "notas"
      ],
      "metadata": {
        "id": "gheICUobSDDX",
        "outputId": "6b23da9e-4684-420d-f524-49e5594809a0",
        "colab": {
          "base_uri": "https://localhost:8080/"
        }
      },
      "execution_count": 3,
      "outputs": [
        {
          "output_type": "execute_result",
          "data": {
            "text/plain": [
              "[[0, 2.248550581282677, 5.348593032075094],\n",
              " [0, 9.993791383909738, 2.3346780321885396],\n",
              " [1, 0.29817189036393854, 7.07312935369472],\n",
              " [0, 4.84861170955198, 4.323104060178764],\n",
              " [0, 9.043761646760885, 1.0131368962465392],\n",
              " [1, 1.4752298525483964, 8.711913586018262],\n",
              " [0, 9.497324680075073, 2.7423260631061233],\n",
              " [0, 2.902226239706086, 1.1922207727681677],\n",
              " [0, 4.611270815320933, 1.568757935219266],\n",
              " [1, 6.852634154730342, 8.887930457823947],\n",
              " [1, 4.396905921524644, 8.612933925939872],\n",
              " [0, 0.2298163230305006, 1.7620374157793972],\n",
              " [0, 9.497332094387813, 1.2932305692080603],\n",
              " [0, 8.015084445770263, 0.8757910286322457],\n",
              " [0, 4.627907823767514, 1.4204882656438023],\n",
              " [0, 9.194778032412582, 1.4812956293253077],\n",
              " [1, 2.3432749568425617, 7.183247815299923],\n",
              " [1, 6.616868870585119, 7.106127228395724],\n",
              " [1, 2.1939037570921958, 9.659049380553258],\n",
              " [0, 0.9604404359584595, 0.5766747744503842]]"
            ]
          },
          "metadata": {},
          "execution_count": 3
        }
      ]
    },
    {
      "cell_type": "markdown",
      "source": [
        "## Paso 3. Estimar unos pesos\n",
        "* Ya tenemos todos los datos necesarios en la matriz notas.\n",
        "* Ahora procede comenzar el proceso estimando unos pesos para comenzar el algoritmo.\n",
        "* Los valores estimados iniciales para los pesos ($\\omega_1$, $\\omega_2$)  serán:"
      ],
      "metadata": {
        "id": "ZVKpRrQRwosQ"
      }
    },
    {
      "cell_type": "code",
      "source": [
        "w1 = 0.5\n",
        "w2 = 1 - w1\n",
        "w1, w2"
      ],
      "metadata": {
        "id": "UYvN4FjoxahT",
        "outputId": "ccc41067-1dd4-4b7a-c1f3-69d95c6a086b",
        "colab": {
          "base_uri": "https://localhost:8080/"
        }
      },
      "execution_count": 5,
      "outputs": [
        {
          "output_type": "execute_result",
          "data": {
            "text/plain": [
              "(0.5, 0.5)"
            ]
          },
          "metadata": {},
          "execution_count": 5
        }
      ]
    },
    {
      "cell_type": "markdown",
      "source": [
        "## Paso 4. Algoritmo Descenso del gradiente\n",
        "* Vamos a ir variando el valor del peso $\\omega_1$ y por ende del peso $\\omega_2$, la variación o incremento de $\\omega$ será lo que conocemos como 'paso'\n",
        "* El paso inicialmente será del 1% sobre el peso máximo que es 1, por lo tanto será p = 0.01\n",
        "* Calculamos la Calificación final del alumno (0 o 1) que tendría con cada pareja de notas, aplicando los nuevos pesos.\n",
        "* Esto se hace para todas las parejas de notas y se calcula el Error producido.\n",
        "* El Error  es el número de Calificaciones finales (vector de ceros y unos) que difiere de las Calificaciones finales reales (el vector de ceros y unos reales)."
      ],
      "metadata": {
        "id": "ZK4zyZa3x3KU"
      }
    },
    {
      "cell_type": "code",
      "source": [
        "p = 1 / 100     # paso\n"
      ],
      "metadata": {
        "id": "vLyuDoPxyn-2"
      },
      "execution_count": null,
      "outputs": []
    }
  ]
}