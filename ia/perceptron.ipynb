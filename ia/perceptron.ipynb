{
  "nbformat": 4,
  "nbformat_minor": 0,
  "metadata": {
    "colab": {
      "provenance": [],
      "authorship_tag": "ABX9TyN2M66KhoPg90FbUass51mc",
      "include_colab_link": true
    },
    "kernelspec": {
      "name": "python3",
      "display_name": "Python 3"
    },
    "language_info": {
      "name": "python"
    }
  },
  "cells": [
    {
      "cell_type": "markdown",
      "metadata": {
        "id": "view-in-github",
        "colab_type": "text"
      },
      "source": [
        "<a href=\"https://colab.research.google.com/github/financieras/math/blob/main/ia/perceptron.ipynb\" target=\"_parent\"><img src=\"https://colab.research.google.com/assets/colab-badge.svg\" alt=\"Open In Colab\"/></a>"
      ]
    },
    {
      "cell_type": "markdown",
      "source": [
        "# Perceptron"
      ],
      "metadata": {
        "id": "-KII1o2yqNyT"
      }
    },
    {
      "cell_type": "markdown",
      "source": [
        "## Caso 1. Averiguar los pesos de dos exámenes en la nota final\n",
        "[Redes neuronales](https://www.xataka.com/robotica-e-ia/las-redes-neuronales-que-son-y-por-que-estan-volviendo)\n",
        "\n",
        "[Pesos y umbrales](https://trucosexcel.blogspot.com/2018/05/pesos-y-umbrales.html)\n",
        "\n",
        "[Puntos linealmente separables](https://trucosexcel.blogspot.com//2018/05/puntos-linealmente-separables.html)\n",
        "\n",
        "* Tenemos las notas de dos exámenes n1 y n2. Las notas de cada examen están en el rango [0, 10].\n",
        "* Cada examen tiene un peso w1 y w2 para promediar en la nota final.\n",
        "* Si la nota final es mayor o igual a 5 el alumno aprueba (1) y en caso contrario suspende (0).\n",
        "\n",
        "* Se trata de obtener los pesos w1 y w2 que se usaron para determinar si un gran número de alumnos aprobaron (1) o suspendieron (0).\n"
      ],
      "metadata": {
        "id": "mO_6Iex1qTNz"
      }
    },
    {
      "cell_type": "markdown",
      "source": [
        "## Descripción\n",
        "* Establezcamos los pesos que luego tendremos que estimar ($\\omega_1$, $\\omega_2$).\n",
        "* Esto se hace para generar datos de parejas de notas de los dos exámenes.\n",
        "* Generaremos un gran número de parejas de notas ($n_1$, $n_2$).\n",
        "* Cada pareja de notas se pondera con los pesos ($\\omega_1$, $\\omega_2$) y esto da lugar a una nota final.\n",
        "* Si la nota final es mayor o igual a 5 el alumno aprueba (1) y en caso contrario el alumno suspende (0).\n",
        "* Por lo tanto, en el modelo tendremos un gran número de notas ($n_1$, $n_2$) y por cada pareja un 1 o un 0, que indicarán si el alumno aprueba o suspende.\n",
        "* Supongamos que son 1000 parejas de notas de entrada y un vector de ceros y unos con mil datos de salida.\n",
        "* Nuestro objetivo es determinar los pesos ($\\omega_1$, $\\omega_2$) que internamente permitieron que esas notas de entrada se convirtieran en ese vector de salida."
      ],
      "metadata": {
        "id": "gizGZsTSNspw"
      }
    },
    {
      "cell_type": "markdown",
      "source": [
        "## Paso 1. Pesos establecidos\n",
        "* Establezcamos los pesos que luego tendremos que estimar ($\\omega_1$, $\\omega_2$).\n",
        "* Siempre se cumple que los pesos se dan en tanto por uno y su suma es 1.\n",
        "* $0 \\leq  \\omega_1 \\leq 1$\n",
        "* $\\omega_1 + \\omega_2 = 1$"
      ],
      "metadata": {
        "id": "MDNpdO4wRTnH"
      }
    },
    {
      "cell_type": "code",
      "source": [
        "w1_real = 0.6      # dato que nos inventamos y luego tendremos que estimar\n",
        "w2_real = 1 - w1_real\n",
        "w1_real, w2_real"
      ],
      "metadata": {
        "id": "RJP6ifWhQmlP",
        "outputId": "85fe314f-372a-470a-fa88-d16237e694ba",
        "colab": {
          "base_uri": "https://localhost:8080/"
        }
      },
      "execution_count": 18,
      "outputs": [
        {
          "output_type": "execute_result",
          "data": {
            "text/plain": [
              "(0.6, 0.4)"
            ]
          },
          "metadata": {},
          "execution_count": 18
        }
      ]
    },
    {
      "cell_type": "markdown",
      "source": [
        "## Paso 2. Matriz con las parejas de notas y calificación final\n",
        "* Generación de 1000 parejas de notas ($n_1$, $n_2$) en forma de matriz.\n",
        "* Las notas varían entre 0 y 10 de forma aleatoria.\n",
        "    1. La nota 1 ($n1$) se guarda en el index 1 de la matriz\n",
        "    2. La nota 2 ($n2$) se guarda en el index 2 de la matriz\n",
        "    3. En el index 0 de la matriz se calcula la Calificación Final.\n",
        "* La calificación final se obtiene aplicando, a cada pareja de notas, los pesos ($\\omega_1$, $\\omega_2$) para obtener la Nota Final.\n",
        "* Convertimos esa Nota Final que varía entre 0 y 10 en un booleano que será la Calificación Final, considerando que:\n",
        "    - Si la nota final es mayor o igual a la nota de aprobado el alumno aprueba: booleano 1\n",
        "    - En caso contrario el alumno suspende: booleano 0\n",
        "* La nota de aprobado se establece en 5."
      ],
      "metadata": {
        "id": "U1Y_TzixRwKp"
      }
    },
    {
      "cell_type": "code",
      "source": [
        "import random\n",
        "random.seed()\n",
        "\n",
        "n = 10000            # número de parejas de notas\n",
        "nota_de_aprobado = 5\n",
        "notas = []          # matriz con las parejas de notas y la calificación final\n",
        "\n",
        "for i in range(n):\n",
        "    n1 = random.random() * 10\n",
        "    n2 = random.random() * 10\n",
        "    nota_binaria = int(n1 * w1_real + n2 * w2_real >= nota_de_aprobado)\n",
        "    notas.append([nota_binaria, n1, n2])\n",
        "\n",
        "#notas\n",
        "len(notas)"
      ],
      "metadata": {
        "id": "gheICUobSDDX",
        "outputId": "da4e99bb-64fe-4102-c39e-cac58de88ee1",
        "colab": {
          "base_uri": "https://localhost:8080/"
        }
      },
      "execution_count": 19,
      "outputs": [
        {
          "output_type": "execute_result",
          "data": {
            "text/plain": [
              "10000"
            ]
          },
          "metadata": {},
          "execution_count": 19
        }
      ]
    },
    {
      "cell_type": "markdown",
      "source": [
        "## Paso 3. Estimar unos pesos\n",
        "* Ya tenemos todos los datos necesarios en la matriz notas.\n",
        "* Ahora procede comenzar el proceso estimando unos pesos para comenzar el algoritmo.\n",
        "* Los valores estimados iniciales para los pesos ($\\omega_1$, $\\omega_2$)  serán:"
      ],
      "metadata": {
        "id": "ZVKpRrQRwosQ"
      }
    },
    {
      "cell_type": "code",
      "source": [
        "w1 = 0.2\n",
        "w2 = 1 - w1\n",
        "w1, w2"
      ],
      "metadata": {
        "id": "UYvN4FjoxahT",
        "outputId": "c22ba8a4-39aa-48a9-f8d1-bc7540836621",
        "colab": {
          "base_uri": "https://localhost:8080/"
        }
      },
      "execution_count": 20,
      "outputs": [
        {
          "output_type": "execute_result",
          "data": {
            "text/plain": [
              "(0.2, 0.8)"
            ]
          },
          "metadata": {},
          "execution_count": 20
        }
      ]
    },
    {
      "cell_type": "markdown",
      "source": [
        "## Paso 4. Errores obtenidos con esos pesos\n",
        "* Usando los pesos establecidos inicialmente vamos a determinar cuántos errores hay al analizar todas las parejas de notas que tenemos en nuestro DataSet.\n",
        "* El Error se calcula restando la salida real de la que nos da el modelo."
      ],
      "metadata": {
        "id": "y3utEeFWFcU_"
      }
    },
    {
      "cell_type": "code",
      "source": [
        "suma_errores = 0\n",
        "\n",
        "for nota in notas:\n",
        "    nota_estimada = nota[1] * w1 + nota[2] * w2\n",
        "    resultado_estimado = 1 if nota_estimada >= 5 else 0\n",
        "    #print(resultado_estimado, nota[0], nota[0] - resultado_estimado)\n",
        "    error = nota[0] - resultado_estimado\n",
        "    #print(error)\n",
        "    suma_errores += abs(error)\n",
        "\n",
        "print(\"Total errores:\", suma_errores)"
      ],
      "metadata": {
        "id": "os5pgzbyF_EJ",
        "outputId": "86994661-3efd-4108-a8f1-a7b389de38aa",
        "colab": {
          "base_uri": "https://localhost:8080/"
        }
      },
      "execution_count": 21,
      "outputs": [
        {
          "output_type": "stream",
          "name": "stdout",
          "text": [
            "Total errores: 2710\n"
          ]
        }
      ]
    },
    {
      "cell_type": "markdown",
      "source": [
        "## Paso 5. Grafico de Errores frente a pesos\n",
        "* Hagamos variar $\\omega_1$ entre 0 y 1 en pasos de 0.01.\n",
        "* Para cada peso se calculan los errores producidos y se hace un gráfico."
      ],
      "metadata": {
        "id": "i5OqREiwJcq2"
      }
    },
    {
      "cell_type": "code",
      "source": [
        "import numpy as np\n",
        "import matplotlib.pyplot as plt\n",
        "\n",
        "\n",
        "errores = []\n",
        "for w1 in range(101):       # son 101 valores\n",
        "    w1 *= 0.01\n",
        "    w2 = 1 - w1\n",
        "    suma_errores = 0\n",
        "    for nota in notas:\n",
        "        nota_estimada = nota[1] * w1 + nota[2] * w2\n",
        "        resultado_estimado = 1 if nota_estimada >= 5 else 0\n",
        "        error = nota[0] - resultado_estimado\n",
        "        suma_errores += abs(error)\n",
        "    errores.append(suma_errores)\n",
        "\n",
        "# Convertir 'errores' en un array de NumPy\n",
        "errores_array = np.array(errores)       # variable y\n",
        "\n",
        "# Generar los valores de x\n",
        "x = np.arange(0, 1.01, 0.01)  # De 0 a 1 con intervalos de 0.01\n",
        "#print(len(x))\n",
        "#print(len(errores_array))\n",
        "# Crear el gráfico\n",
        "plt.scatter(x, errores_array, color='blue', label='Datos')\n",
        "\n",
        "# Añadir etiquetas y título\n",
        "plt.xlabel('x')\n",
        "plt.ylabel('y')\n",
        "plt.title('Gráfico de puntos')\n",
        "plt.legend()\n",
        "\n",
        "# Mostrar el gráfico\n",
        "plt.show()"
      ],
      "metadata": {
        "id": "EZty6iOAKA72",
        "outputId": "3475f4bd-13a4-44d5-a0ab-e3aa7976104f",
        "colab": {
          "base_uri": "https://localhost:8080/",
          "height": 508
        }
      },
      "execution_count": 22,
      "outputs": [
        {
          "output_type": "stream",
          "name": "stdout",
          "text": [
            "101\n",
            "101\n"
          ]
        },
        {
          "output_type": "display_data",
          "data": {
            "text/plain": [
              "<Figure size 640x480 with 1 Axes>"
            ],
            "image/png": "[encoded data removed]"
          },
          "metadata": {}
        }
      ]
    },
    {
      "cell_type": "markdown",
      "source": [
        "* El gráfico anterior nos permite ver que existe un mínimo.\n",
        "* Con el procedimiento anterior no hemos seguido un algoritmo de búsqueda de ese mínimo, simplemente hemos calculado los errores para un gran número de posibles valores de $\\omega_1$ en todo su rango ```[0, 1]```.\n"
      ],
      "metadata": {
        "id": "BnFEk_GjRnF9"
      }
    },
    {
      "cell_type": "markdown",
      "source": [
        "## Paso 6. Algoritmo de búsqueda del mínimo\n",
        "* Tomemos un punto inicial de partida para $\\omega_1$, por ejemplo $\\omega_1 = 0.2$ y establezcamos un paso, por ejemplo $p = 0.01$.\n",
        "* Calculemos los errores para tres valores de $\\omega_1$ que son:\n",
        "    1. $\\omega_1$\n",
        "    2. $\\omega_1 - p$\n",
        "    3. $\\omega_1 + p$\n",
        "* Veamos en que dirección disminuyen los errores.\n",
        "* El nuevo valor de $\\omega_1$ será $\\omega_1 + p$, o bien, $\\omega_1 - p$, aquél de los dos en el que los errores hayan disminuido.\n",
        "* ¿Hasta cuando nos iremos moviendo? Hasta que veamos que los errores ya no disminuyen. Esto implica que hemos de ir memorizando el mínimo de errores y en que punto $\\omega_1$ se produce.\n",
        "\n"
      ],
      "metadata": {
        "id": "XjpIE9Y2RnC_"
      }
    },
    {
      "cell_type": "code",
      "source": [
        "import random\n",
        "random.seed()\n",
        "\n",
        "def genera_notas(n, nota_de_aprobado):\n",
        "    notas = []          # matriz con las parejas de notas y la calificación final\n",
        "    for i in range(n):\n",
        "        n1 = random.random() * 10\n",
        "        n2 = random.random() * 10\n",
        "        nota_binaria = int(n1 * w1_real + n2 * (1 - w1_real) >= nota_de_aprobado)\n",
        "        notas.append([nota_binaria, n1, n2])\n",
        "    return notas\n",
        "\n",
        "def calcula_num_errores(notas, w1, nota_de_aprobado):\n",
        "    suma_errores = 0\n",
        "    for nota in notas:\n",
        "        nota_estimada = nota[1] * w1 + nota[2] * (1 - w2)\n",
        "        resultado_estimado = 1 if nota_estimada >= nota_de_aprobado else 0\n",
        "        error = nota[0] - resultado_estimado\n",
        "        suma_errores += abs(error)\n",
        "    return suma_errores\n",
        "\n",
        "\n",
        "\n",
        "def calcula_minimos_errores(notas, w1, p, nota_de_aprobado):\n",
        "    num_minimo_errores = float(inf)   # inicializamos el número mínimo de errores en infinito\n",
        "    while True:\n",
        "\n",
        "\n",
        "\n",
        "if __name__ == \"__main__\":\n",
        "    w1_real = 0.6      # dato que nos inventamos y luego tendremos que estimar\n",
        "    n = 10000            # número de parejas de notas\n",
        "    nota_de_aprobado = 5\n",
        "    notas = genera_notas(n, nota_de_aprobado)\n",
        "    # Valor inicial de w1\n",
        "    w1_inicial = 0.2        # Comenzamos la búsqueda desde este valor de w1, establecido arbitrariamente\n",
        "    # Valor del paso, establecido arbitrariamente\n",
        "    p = 0.01        # Si es muy fino va más lento, si es muy grande puede no hayar el mínimo\n",
        "    w1_minimo, num_errores = calcula_minimos_errores(notas, w1_inicial, p, nota_de_aprobado)"
      ],
      "metadata": {
        "id": "pf3IewzAAH1M"
      },
      "execution_count": null,
      "outputs": []
    },
    {
      "cell_type": "markdown",
      "source": [],
      "metadata": {
        "id": "N9g6Hh9FRnAC"
      }
    },
    {
      "cell_type": "markdown",
      "source": [],
      "metadata": {
        "id": "HakwSTj_Rm8h"
      }
    },
    {
      "cell_type": "markdown",
      "source": [],
      "metadata": {
        "id": "OOcJv67HRmwC"
      }
    },
    {
      "cell_type": "markdown",
      "source": [
        "## Paso 9. Algoritmo Descenso del gradiente\n",
        "* Vamos a ir variando el valor del peso $\\omega_1$ y por ende del peso $\\omega_2$, la variación o incremento de $\\omega$ será lo que conocemos como 'paso'\n",
        "* El paso inicialmente será del 1% sobre el peso máximo que es 1, por lo tanto será p = 0.01\n",
        "* Calculamos la Calificación final del alumno (0 o 1) que tendría con cada pareja de notas, aplicando los nuevos pesos.\n",
        "* Esto se hace para todas las parejas de notas y se calcula el Error producido.\n",
        "* El Error  es el número de Calificaciones finales (vector de ceros y unos) que difiere de las Calificaciones finales reales (el vector de ceros y unos reales)."
      ],
      "metadata": {
        "id": "ZK4zyZa3x3KU"
      }
    }
  ]
}