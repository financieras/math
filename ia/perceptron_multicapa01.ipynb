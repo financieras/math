{
  "nbformat": 4,
  "nbformat_minor": 0,
  "metadata": {
    "colab": {
      "provenance": [],
      "authorship_tag": "ABX9TyPP1H7UwJDqGca2KE1VLJ2s",
      "include_colab_link": true
    },
    "kernelspec": {
      "name": "python3",
      "display_name": "Python 3"
    },
    "language_info": {
      "name": "python"
    }
  },
  "cells": [
    {
      "cell_type": "markdown",
      "metadata": {
        "id": "view-in-github",
        "colab_type": "text"
      },
      "source": [
        "<a href=\"https://colab.research.google.com/github/financieras/math/blob/main/ia/perceptron_multicapa01.ipynb\" target=\"_parent\"><img src=\"https://colab.research.google.com/assets/colab-badge.svg\" alt=\"Open In Colab\"/></a>"
      ]
    },
    {
      "cell_type": "markdown",
      "source": [
        "## Recursos\n",
        "**Vídeos**\n",
        "\n",
        "1. [Redes neuronales: Introducción al Perceptrón Multicapa](https://youtu.be/Fz4Uo8_uUfg?si=Msq_5P9A-uKY-iMI)\n",
        "2. [Red neuronal multicapa explicada (perceptrón multicapa)](https://youtu.be/BGT46tf7iCM?si=Qrw1ufBUMCm_OChM)"
      ],
      "metadata": {
        "id": "sskUdx8lEt-h"
      }
    }
  ]
}